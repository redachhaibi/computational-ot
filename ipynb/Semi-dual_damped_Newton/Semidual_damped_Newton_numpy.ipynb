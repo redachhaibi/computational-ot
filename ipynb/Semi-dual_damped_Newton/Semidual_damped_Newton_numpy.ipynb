{
 "cells": [
  {
   "cell_type": "markdown",
   "metadata": {},
   "source": [
    "# In this notebook we look into the performance of semi-dual damped Newton in the numpy framework."
   ]
  },
  {
   "cell_type": "code",
   "execution_count": null,
   "metadata": {
    "metadata": {}
   },
   "outputs": [],
   "source": [
    "from __future__ import division\n",
    "import os\n",
    "import numpy as np\n",
    "import time\n",
    "import matplotlib.pyplot as plt                                                                              \n",
    "import warnings\n",
    "warnings.filterwarnings( 'ignore' )\n",
    "np.random.seed(1234)\n",
    "import computational_OT\n",
    "%matplotlib inline\n",
    "%load_ext autoreload\n",
    "%autoreload 2"
   ]
  },
  {
   "cell_type": "code",
   "execution_count": null,
   "metadata": {
    "metadata": {}
   },
   "outputs": [],
   "source": [
    "relative_path_to_new_folder = \"../Images\"\n",
    "os.makedirs( relative_path_to_new_folder, exist_ok = True )\n",
    "if not os.path.isdir( \"../Images/SemiDual_dampedNewton_images_numpy\" ):\n",
    "    os.makedirs( \"../Images/SemiDual_dampedNewton_images_numpy\" )"
   ]
  },
  {
   "cell_type": "code",
   "execution_count": null,
   "metadata": {
    "metadata": {}
   },
   "outputs": [],
   "source": [
    "\"\"\"To compute distance matrix\"\"\"\n",
    "def distmat( x, y ):\n",
    "    return np.sum( x ** 2, 0 )[:,None] + np.sum( y ** 2, 0 )[None,:] - 2 * x.transpose().dot( y )\n",
    "\n",
    "\"\"\"To Normalise a vector\"\"\"\n",
    "normalize = lambda a: a/np.sum( a )\n",
    "\n",
    "\"\"\"To Compute P\"\"\"\n",
    "def GetP( u, K, v ):\n",
    "    return u[:,None] * K * v[None,:]\n",
    "\n",
    "def plotp( x, col, plt, scale = 200, edgecolors = \"k\" ):\n",
    "  return plt.scatter( x[0,:], x[1,:], s = scale, edgecolors = edgecolors, c = col, cmap = 'plasma', linewidths = 2 )"
   ]
  },
  {
   "cell_type": "code",
   "execution_count": null,
   "metadata": {
    "metadata": {}
   },
   "outputs": [],
   "source": [
    "def generate_data( N ):\n",
    "    \"\"\"\n",
    "     N is a list of the size of the data on x and y\n",
    "    \"\"\"\n",
    "    x = np.random.rand( 2, N[0] ) - 0.5\n",
    "    theta = 2 * np.pi * np.random.rand( 1, N[1] )\n",
    "    r = 0.8 + 0.2 * np.random.rand( 1, N[1] )\n",
    "    y = np.vstack( ( r * np.cos( theta ), r * np.sin( theta ) ) )\n",
    "    return x, y"
   ]
  },
  {
   "cell_type": "code",
   "execution_count": null,
   "metadata": {
    "metadata": {}
   },
   "outputs": [],
   "source": [
    "N = [ 1000, 1100 ]\n",
    "x, y = generate_data( N )"
   ]
  },
  {
   "cell_type": "markdown",
   "metadata": {},
   "source": [
    "\\## Entropy regularized dual-formulation\n",
    "The dual formulation of the entropy regularized OT is given by:\n",
    "$$\n",
    "OT_{\\varepsilon}(\\alpha,\\beta) = \\max_{f\\in \\mathbb{R}^{n}, g\\in\\mathbb{R}^{m}} \\langle f, \\alpha \\rangle + \\langle g, \\beta \\rangle - \\varepsilon\\left(\\langle\\alpha \\otimes \\beta, e^{\\frac{f}{\\varepsilon}}\\odot K \\odot e^{\\frac{g}{\\varepsilon}}  \\rangle-1\\right)\\ ,\n",
    "$$\n",
    "where\n",
    "$$\n",
    "\\alpha \\in \\mathcal{M}_{1}(\\mathcal{X}),\\ \\beta \\in \\mathcal{M}_{1}(\\mathcal{Y}),\\ \\varepsilon>0,\\ f\\in\\mathbb{R}^{n},\\ g\\in \\mathbb{R}^{m}\\ .\n",
    "$$\n",
    "\n",
    "Let us denote the objective function of the above formulation by $Q^{semi}_{\\alpha, \\beta, \\varepsilon}(f)$."
   ]
  },
  {
   "cell_type": "markdown",
   "metadata": {},
   "source": [
    "# The semi-dual formulation of OT is given by:\n",
    "Using the Shrodinger-bridge equations between the potentials, that is, $g_{j} = -\\varepsilon\\log\\left(\\sum_{i}\\exp\\left(\\frac{f_{i}-C_{ij}}{\\varepsilon}\\right)\\alpha_{i}\\right)\\ , \\ \\forall j = 1,\\dots,m$, the dual formulation of the objective function $Q_{\\alpha, \\beta,\\varepsilon}$ reduces to the semi-dual formulation of the objective function given by,\n",
    "$$\n",
    "Q^{semi}_{\\alpha, \\beta, \\varepsilon}(f) = \\langle f, \\alpha \\rangle + \\langle g(f,C,\\varepsilon), \\beta \\rangle\\ , \n",
    "$$\n",
    "where\n",
    "$g(f,C,\\varepsilon)_{j} = -\\varepsilon\\log\\left(\\sum_{i}\\exp\\left(\\frac{f_{i}-C_{ij}}{\\varepsilon}\\right)\\alpha_{i}\\right)$.\n",
    "\n",
    "In this setup, the gradients and the Hessian is as follows,\n",
    "\n",
    "$a)$ Gradients:\n",
    "$$\n",
    "\\nabla_{f}Q^{semi}_{\\alpha, \\beta, \\varepsilon}(f)_{i} = \\frac{1}{\\varepsilon}\\alpha_{i}\\left(1-\\sum_{s=1}^{n}\\frac{e^{\\frac{f_{i}-C_{ij}}{\\varepsilon}}\\beta_{s}}{\\left(\\sum_{t=1}^{n}\\alpha_{t}e^{\\frac{f_{t}-C_{ts}}{\\varepsilon}}\\right)}\\right)\\ ,\\ \\forall i = 1,\\dots,n\\ .\n",
    "$$\n",
    "\n",
    "b) Hessian:\n",
    "$$\n",
    "\\nabla^{2}_{f}Q^{semi}_{\\alpha, \\beta, \\varepsilon}(f)_{ii} = \\frac{-1}{\\varepsilon}\\sum_{s=1}^{m}\\left(\\alpha_{i}\\exp\\left(\\frac{f_{i}+g(f,C,\\varepsilon)_{s}-C_{is}}{\\varepsilon}\\right)\\right)\\left(1 - \\alpha_{i}\\left(\\exp\\left(\\frac{f_{i}+g(f,C,\\varepsilon)_{s}-C_{is}}{\\varepsilon}\\right)\\right)\\right)\\beta_{s}\\ ,\\ \\forall i =1,\\dots,n\n",
    "$$\n",
    "and\n",
    "$$\n",
    "\\nabla^{2}_{f}Q^{semi}_{\\alpha, \\beta, \\varepsilon}(f)_{ij} = \\frac{1}{\\varepsilon}\\sum_{s=1}^{m}\\alpha_{i}\\alpha_{j}\\left(\\exp\\left(\\frac{f_{i}+g(f,C,\\varepsilon)_{s}-C_{is}}{\\varepsilon}\\right)\\right)\\left(\\exp\\left(\\frac{f_{j}+g(f,C,\\varepsilon)_{s}-C_{js}}{\\varepsilon}\\right)\\right)\\beta_{s}\\ ,\\ \\forall i \\neq j = 1,\\dots,n\\ .\n",
    "$$\n",
    "Now we plug-in these gradients and Hessian in damped Newton algorithm as we did before.\n",
    "\n",
    "Here we also incorporate the exp-log stabilization to stabilize $g$,the gradients and the Hessian in the following way,\n",
    "$$\n",
    "f^{C}_{j} \\leftarrow \\min_{i}(C_{ij}-f_{i})\\ ,  \\ \\forall j = 1,\\dots,m,\\ \\text{the C-transform of f}\\ . \n",
    "$$\n",
    "$$\n",
    "g_{j} = f^{C}_{j} -\\varepsilon\\log\\left(\\sum_{i}\\exp\\left(\\frac{f_{i}+f^{C}_{j}-C_{ij}}{\\varepsilon}\\right)\\alpha_{i}\\right)\\ ,  \\ \\forall j = 1,\\dots,m\\ ,\n",
    "$$\n",
    "$$\n",
    "\\nabla_{f}Q^{semi}_{\\alpha, \\beta, \\varepsilon}(f)_{i} = \\frac{1}{\\varepsilon}\\alpha_{i}\\left(1-\\sum_{s=1}^{n}\\frac{e^{\\frac{f_{i}+f^{C}_{j}-C_{ij}}{\\varepsilon}}\\beta_{s}}{\\left(\\sum_{t=1}^{n}\\alpha_{t}e^{\\frac{f_{t}+f^{C}_{j}-C_{ts}}{\\varepsilon}}\\right)}\\right)\\ ,\\ \\forall i = 1,\\dots,n\\ , \n",
    "$$\n",
    "$$\n",
    "\\nabla^{2}_{f}Q^{semi}_{\\alpha, \\beta, \\varepsilon}(f)_{ii} = \\frac{-1}{\\varepsilon}\\sum_{s=1}^{m}\\left(\\alpha_{i}\\exp\\left(\\frac{f_{i}+g(f,C,\\varepsilon)_{s}-C_{is}}{\\varepsilon}\\right)\\right)\\left(1 - \\alpha_{i}\\left(\\exp\\left(\\frac{f_{i}+g(f,C,\\varepsilon)_{s}-C_{is}}{\\varepsilon}\\right)\\right)\\right)\\beta_{s}\\ ,\\ \\forall i =1,\\dots,n\\ , \n",
    "$$\n",
    "$$\n",
    "\\nabla^{2}_{f}Q^{semi}_{\\alpha, \\beta, \\varepsilon}(f)_{ij} = \\frac{1}{\\varepsilon}\\sum_{s=1}^{m}\\alpha_{i}\\alpha_{j}\\left(\\exp\\left(\\frac{f_{i}+g(f,C,\\varepsilon)_{s}-C_{is}}{\\varepsilon}\\right)\\right)\\left(\\exp\\left(\\frac{f_{j}+g(f,C,\\varepsilon)_{s}-C_{js}}{\\varepsilon}\\right)\\right)\\beta_{s}\\ ,\\ \\forall i \\neq j = 1,\\dots,n\\ .\n",
    "$$"
   ]
  },
  {
   "cell_type": "markdown",
   "metadata": {},
   "source": [
    "# I. Semidual damped Newton (Direct inversion / No preconditioning)"
   ]
  },
  {
   "cell_type": "markdown",
   "metadata": {},
   "source": [
    "## Experiment"
   ]
  },
  {
   "cell_type": "code",
   "execution_count": null,
   "metadata": {},
   "outputs": [],
   "source": [
    "print( \" Semi dual damped Newton... \" )\n",
    "print( \" Doing for (\",N[0], N[1],\"). \" )\n",
    "withoutprecond_epsilons = [ 0.5, 0.1, 0.05, 0.03, 0.02 ]                                                                                                                                                                                                                                                                                                                                                    \n",
    "rho = 0.7\n",
    "c = 0.1\n",
    "Semi_dual_dampedNewtonP = []    \n",
    "results_semi_dual_dampedNewton = []\n",
    "times_semi_dual_dampedNewton = []\n",
    "Hessians_semi_dual_dampedNewton = []\n",
    "#Cost matrix\n",
    "C = distmat( x, y )\n",
    "# a and b\n",
    "a = normalize( np.ones( N[0] ) )\n",
    "b = normalize( np.ones( N[1] ) )\n",
    "for eps in withoutprecond_epsilons:\n",
    "    K = np.exp( - C/eps )\n",
    "    print( \" For epsilon = \" + str(eps) + \":\" )   \n",
    "    f = a\n",
    "    print( \" |-  Iterating\" )  \n",
    "    start = time.time() \n",
    "    Optimizer = computational_OT.semi_dual_dampedNewton_np( C,\n",
    "                                                            a,\n",
    "                                                            b,\n",
    "                                                            f,\n",
    "                                                            eps,\n",
    "                                                            rho,\n",
    "                                                            c,\n",
    "                                                            exp_log = \"True\" ) \n",
    "    out = Optimizer._update( max_iterations = 50 )\n",
    "    end = time.time()\n",
    "    if out != -1:\n",
    "        results_semi_dual_dampedNewton.append( out )\n",
    "        times_semi_dual_dampedNewton.append( end - start )\n",
    "        print( \" |- Computing P \" )\n",
    "        print( \"\" )\n",
    "        u_opt = np.exp( out['potential_f']/eps )\n",
    "        K = np.exp( - C/eps )\n",
    "        v_opt =  np.exp( out['potential_g']/eps )\n",
    "        P_opt = GetP( u_opt, K, v_opt )\n",
    "        Semi_dual_dampedNewtonP.append( P_opt )\n",
    "        print( \" |- Recording (unstabilized) Hessian \\n \" )\n",
    "        mat  = - eps * Optimizer.Hessian\n",
    "        diag = 1/np.sqrt( a )\n",
    "        mat = diag[:, None] * mat * diag[None,:]\n",
    "        Hessians_semi_dual_dampedNewton.append( mat )\n",
    "    else:\n",
    "        withoutprecond_epsilons.remove( eps )\n",
    "# end for"
   ]
  },
  {
   "cell_type": "markdown",
   "metadata": {},
   "source": [
    "#### Error plot"
   ]
  },
  {
   "cell_type": "code",
   "execution_count": null,
   "metadata": {
    "metadata": {}
   },
   "outputs": [],
   "source": [
    "plt.rcParams.update( { 'font.size' : 12 } )\n",
    "plt.figure( figsize = ( 12, 5 ) )\n",
    "plt.title( \"$$\" )\n",
    "plt.title( \"$||P1 -a||_1+||P1 -b||_1$\" )\n",
    "for i in range( len( results_semi_dual_dampedNewton ) ):\n",
    "  error = np.asarray( results_semi_dual_dampedNewton[i]['error'] )\n",
    "  plt.plot( error, label = 'Semi-dual damped Newton for $\\epsilon = $' + str(withoutprecond_epsilons[i]), linewidth = 2 )\n",
    "# end for\n",
    "plt.xlabel( \" Number of iterations \" ) \n",
    "plt.ylabel( \" Error in log-scale \" )\n",
    "plt.legend( loc = \"upper right\" )\n",
    "plt.yscale( 'log' )\n",
    "plt.tight_layout()\n",
    "plt.savefig( \"../Images/SemiDual_dampedNewton_images_numpy/ErrorSemi_DualNewton.pdf\", format = 'pdf' )\n",
    "plt.show()\n",
    "print( \" \\n Error plots can increase! The error is not the objective function! \" )"
   ]
  },
  {
   "cell_type": "markdown",
   "metadata": {},
   "source": [
    "#### Objective function plot"
   ]
  },
  {
   "cell_type": "code",
   "execution_count": null,
   "metadata": {
    "metadata": {}
   },
   "outputs": [],
   "source": [
    "plt.rcParams.update( { 'font.size' : 12 } )\n",
    "plt.figure( figsize = ( 12, 5 ) )\n",
    "plt.title( \"$$\" )\n",
    "plt.title( \" Objective Function \" )\n",
    "for i in range( len( results_semi_dual_dampedNewton ) ):\n",
    "  value = np.asarray( results_semi_dual_dampedNewton[i]['objective_values'] )\n",
    "  plt.plot( value,label = 'Semi-dual damped Newton for $\\epsilon = $'+ str(withoutprecond_epsilons[i]), linewidth = 2 )\n",
    "# end for\n",
    "plt.xlabel( \" Number of iterations \" )\n",
    "plt.ylabel( \" Objective value \" )\n",
    "plt.legend( loc = \"upper right\" )\n",
    "plt.savefig( \"../Images/SemiDual_dampedNewton_images_numpy/ObjectiveSemi_DualNewton.pdf\", format = 'pdf' )\n",
    "plt.show()"
   ]
  },
  {
   "cell_type": "markdown",
   "metadata": {},
   "source": [
    "#### Plot displaying the step lengths obtained from the Armijo's conditions at different iterations for different epsilons"
   ]
  },
  {
   "cell_type": "code",
   "execution_count": null,
   "metadata": {
    "metadata": {}
   },
   "outputs": [],
   "source": [
    "plt.rcParams.update( { 'font.size' : 12 } )\n",
    "plt.figure( figsize = ( 20, 7 ) )\n",
    "plt.subplot( 2, 1, 1 )\n",
    "plt.title( \"Alpha\" )\n",
    "for i in range( len( results_semi_dual_dampedNewton ) ):\n",
    "  plt.plot( np.asarray( results_semi_dual_dampedNewton[i][\"linesearch_steps\"] ), label = 'Damped Newton for $\\epsilon = $'+ str(withoutprecond_epsilons[i]), linewidth = 2 )\n",
    "# end for\n",
    "plt.xlabel( \"Number of iterations\" )\n",
    "plt.ylabel( \"Alpha in log-scale\" ) \n",
    "plt.legend( loc = \"upper right\" )\n",
    "plt.savefig( \"../Images/SemiDual_dampedNewton_images_numpy/AlphaSemi_DualNewton.pdf\", format = 'pdf' )\n",
    "plt.show()"
   ]
  },
  {
   "cell_type": "markdown",
   "metadata": {},
   "source": [
    "## Observing the spectrum of the eigenvalues of the Hessian at the optimal potentials obtained from the above algorithm"
   ]
  },
  {
   "cell_type": "code",
   "execution_count": null,
   "metadata": {
    "metadata": {}
   },
   "outputs": [],
   "source": [
    "def print_spectral_statistics( mat, stabilize = False ):\n",
    "    if stabilize:\n",
    "        # Stabilizing largest and smallest eigenvalue\n",
    "        min_vector = np.hstack( ( np.ones( N[0] ) ) )\n",
    "        max_vector = np.hstack( ( np.ones(N[0] ) ) )\n",
    "        norm = np.sqrt( N[0] )\n",
    "        min_vector = min_vector/norm\n",
    "        max_vector = max_vector/norm\n",
    "        min_vector = min_vector.reshape( ( min_vector.shape[0], 1 ) )\n",
    "        max_vector = max_vector.reshape( ( max_vector.shape[0], 1 ) )\n",
    "        #\n",
    "        mat = mat + np.dot( min_vector, min_vector.T )\n",
    "        mat = mat - np.dot( max_vector, max_vector.T )\n",
    "    # endif\n",
    "    eig, v = np.linalg.eigh( mat )\n",
    "    sorting_indices = np.argsort( eig )\n",
    "    eig = eig[ sorting_indices ]\n",
    "    v   = v[ :, sorting_indices ]\n",
    "    #print( \"Mean eigenvalue: \", np.mean(eig) )\n",
    "    print( \"List of smallest eigenvalues: \", eig[ : 10 ] )\n",
    "    print( \"List of largest  eigenvalues: \", eig[ - 10 : ] )\n",
    "    min_index = np.argmin( eig )\n",
    "    max_index = np.argmax( eig )\n",
    "    min_value = eig[ min_index ]\n",
    "    max_value = eig[ max_index ]\n",
    "    min_vector = v[ :, min_index ]\n",
    "    min_vector = min_vector/min_vector[0]\n",
    "    max_vector = v[ :,max_index ]\n",
    "    max_vector = max_vector/max_vector[0]\n",
    "    condition_number = max_value/min_value\n",
    "    # Test smallest and largest\n",
    "    # print( \"Min eigenvalue vector: \", min_vector)\n",
    "    # print( \"Max eigenvalue vector: \", max_vector)\n",
    "    #\n",
    "    #print( v[:,0]*np.sqrt( self.N1 + self.N2))\n",
    "    #vector = v[:,0]\n",
    "    #test = np.dot( result, vector)\n",
    "    #print( np.linalg.norm(test) )\n",
    "    #print(\"Min absolute eigenvalues: \", min_value)\n",
    "    #print(\"Norm of v-1: \", np.linalg.norm(min_vector-eig_vector))\n",
    "    print( \" Condition number: \", condition_number )\n",
    "    # plt.hist( eig, 50)\n",
    "    # plt.title( \"Histogram of eigenvalues for Hessian\")\n",
    "    # plt.xlabel( \"Eigenvalues\")\n",
    "    # plt.yscale( \"log\" )\n",
    "    # plt.show()\n",
    "    return eig, v"
   ]
  },
  {
   "cell_type": "code",
   "execution_count": null,
   "metadata": {
    "metadata": {}
   },
   "outputs": [],
   "source": [
    "eigs = []\n",
    "eigvecs = []\n",
    "for i in range( len( withoutprecond_epsilons ) ):\n",
    "    eps = withoutprecond_epsilons[i]\n",
    "    print( \" Spectral statistics of Hessian for epsilon = \" + str(eps) )\n",
    "    Hessian = Hessians_semi_dual_dampedNewton[i]\n",
    "    ev = print_spectral_statistics( Hessian, stabilize = False )\n",
    "    eigs.append( ev[0] )\n",
    "    eigvecs.append( ev[1] )\n",
    "    print(\"\")\n",
    "# end for"
   ]
  },
  {
   "cell_type": "code",
   "execution_count": null,
   "metadata": {
    "metadata": {}
   },
   "outputs": [],
   "source": [
    "plt.rcParams.update( { 'font.size' : 10 } )\n",
    "fig, ax = plt.subplots( figsize = ( 5, 12 ), nrows =  len(withoutprecond_epsilons), ncols = 1, sharey = True )\n",
    "plt.title( \" Histogram of eigenvalues. \" )\n",
    "for i in range( len( withoutprecond_epsilons ) ):\n",
    "    ax[i].hist( eigs[i], 50 )\n",
    "    ax[i].set_title( \" $\\epsilon$: \" + str(withoutprecond_epsilons[i]) )\n",
    "    ax[i].set_xlabel( \" Eigenvalues \" )\n",
    "    ax[i].set_yscale( \"log\" )\n",
    "    ax[i].set_xlim( 0, 1 )\n",
    "# end for\n",
    "plt.subplots_adjust( wspace = 0, hspace = 0.5 ) \n",
    "plt.tight_layout()\n",
    "plt.savefig( \"../Images/DampedNewton_SemiDual_images_numpy/eigenhistunstabilized.pdf\", format = 'pdf' )\n",
    "plt.show()"
   ]
  },
  {
   "cell_type": "markdown",
   "metadata": {},
   "source": [
    "# II. Semidual damped Newton with preconditioning\n",
    "Here we perform semi-dual damped Newton with preconditioning. Here we consider $t$ eigenvalues of the Hessian that we want to move to one and form the following preconditioning matrix using the corresponding eigenvectors,\n",
    "$$\n",
    "P = \\left(I_{n+m}-\\sum_{i-1}^{t}\\left(1 - \\frac{1}{\\sqrt{\\lambda_{i}}}\\right)y_{i}y_{i}^{T}\\right)\\ ,\n",
    "$$\n",
    "where\n",
    "$$\n",
    "y_{i} \\in \\ker\\left(\\nabla^{2}_{f}Q^{semi}_{\\alpha, \\beta, \\varepsilon}(f)-\\lambda_{i}I_{n}\\right),\\ \\forall i= 1,\\dots,k\\ ,\n",
    "$$\n",
    " are orthonormal.\n",
    "\n",
    "Now, at the $k^{th}$ iteration we solve the following equation:\n",
    "$$\n",
    "(P\\nabla^{2}Q^{semi}_{\\alpha, \\beta, \\varepsilon}(f)P)(Pp_{k})=P\\nabla Q^{semi}_{\\alpha, \\beta, \\varepsilon}(f)\\ ,\n",
    "$$\n",
    "using iterative inversion methods such as \"Conjugate gradient\" and \"GMRES\" to get the ascent direction $p_{k}$, following which we use the Armijo condition to obtain the ascent step size $\\alpha_{k}$."
   ]
  },
  {
   "cell_type": "markdown",
   "metadata": {},
   "source": [
    "#### Preconditioning eigenvectors \n",
    "The Hessian of damped Newton in the semi-dual formulation are in the interval [0,1]. The following function collects eigenvectors corresponding to $k$ eigenvalues towards the left end of the spectrum, that is, near zero."
   ]
  },
  {
   "cell_type": "code",
   "execution_count": null,
   "metadata": {},
   "outputs": [],
   "source": [
    "def build_preconditioners( num_eigs, modified_Hessian, ansatz = True ):\n",
    "    # Diagonalize\n",
    "    eigenvalues, eigenvectors = np.linalg.eigh( modified_Hessian )\n",
    "    sorting_indices = np.argsort( eigenvalues  )\n",
    "    eigenvalues  = eigenvalues[ sorting_indices ]\n",
    "    eigenvectors = eigenvectors[ : , sorting_indices ]\n",
    "    # Form null vector\n",
    "    if not ansatz:\n",
    "        null_vector = eigenvectors[:, 0]\n",
    "    else:\n",
    "        null_vector = np.ones( N[0] ) \n",
    "        norm = np.sqrt( N[0] )\n",
    "        null_vector = null_vector/norm\n",
    "    # Form other vectors\n",
    "    indices = []\n",
    "    for i in range( num_eigs ):\n",
    "        indices.append( i+1 )\n",
    "    # end for\n",
    "    precond_vectors = []\n",
    "    for index in indices:\n",
    "        precond_vectors.append( eigenvectors[ :, index ] )\n",
    "    # end for\n",
    "    return null_vector, precond_vectors"
   ]
  },
  {
   "cell_type": "code",
   "execution_count": null,
   "metadata": {},
   "outputs": [],
   "source": [
    "num_eigs = 40\n",
    "null_vector, precond_vectors = build_preconditioners( num_eigs, Hessians_semi_dual_dampedNewton[-1], ansatz = False )\n",
    "# Cost matrix\n",
    "C = distmat( x, y )\n",
    "# a and b   \n",
    "a = normalize( np.ones( N[0] ) )\n",
    "b = normalize( np.ones( N[1] ) )\n",
    "withprecond_epsilons = [ 0.5, 0.1, 0.03, 0.02 ]"
   ]
  },
  {
   "cell_type": "markdown",
   "metadata": {},
   "source": [
    "## True preconditioning with exact inversion "
   ]
  },
  {
   "cell_type": "code",
   "execution_count": null,
   "metadata": {},
   "outputs": [],
   "source": [
    "print(  \" Semi dual damped Newton with preconditioning and exact inversion... \" )\n",
    "print( \" Doing for (\",N[0], N[1],\"). \" )\n",
    "rho = 0.6\n",
    "c = 0.1\n",
    "reset_starting_point = True  \n",
    "final_modified_Hessians_EI = []\n",
    "Semi_dual_dampedNewton_with_preconditionerP_EI = []\n",
    "results_semi_dual_dampedNewton_with_preconditioner_EI = []\n",
    "times_semi_dual_dampedNewton_with_preconditioner_EI = []\n",
    "f = None\n",
    "for eps in withprecond_epsilons :\n",
    "    print( \" For epsilon = \"+str(eps)+\":\" )    \n",
    "    if f is None:\n",
    "        f = a * 0\n",
    "    print( \" |- Iterating\" )  \n",
    "    start = time.time() \n",
    "    Optimizer = computational_OT.semi_dual_dampedNewton_with_precodonditioning_np(  C,\n",
    "                                                                                    a,\n",
    "                                                                                    b,\n",
    "                                                                                    f,\n",
    "                                                                                    eps,\n",
    "                                                                                    rho,\n",
    "                                                                                    c,\n",
    "                                                                                    null_vector,\n",
    "                                                                                    precond_vectors[:],\n",
    "                                                                                    exp_log = \"True\" )                                        \n",
    "    out = Optimizer._update(    max_iterations = 50,\n",
    "                                iterative_inversion = -1,\n",
    "                                version = None,\n",
    "                                debug = False,\n",
    "                                optType = 'cg' )\n",
    "    results_semi_dual_dampedNewton_with_preconditioner_EI.append( out )\n",
    "    end = time.time()\n",
    "    times_semi_dual_dampedNewton_with_preconditioner_EI.append( end - start )\n",
    "    print( \" |- Computing P\" )\n",
    "    print( \"\" )\n",
    "    u_opt = np.exp( out['potential_f']/eps )\n",
    "    K = np.exp( - C/eps )\n",
    "    v_opt =  np.exp( out['potential_g']/eps )\n",
    "    P_opt = GetP( u_opt, K, v_opt )\n",
    "    Semi_dual_dampedNewton_with_preconditionerP_EI.append( P_opt )\n",
    "    if not reset_starting_point:\n",
    "        f = Optimizer.x[:a.shape[0]]\n",
    "        g = Optimizer.x[a.shape[0]:]\n",
    "    final_modified_Hessians_EI.append( Optimizer.modified_Hessian )\n",
    "# end for"
   ]
  },
  {
   "cell_type": "markdown",
   "metadata": {},
   "source": [
    "#### Error plot\n"
   ]
  },
  {
   "cell_type": "code",
   "execution_count": null,
   "metadata": {},
   "outputs": [],
   "source": [
    "plt.rcParams.update( { 'font.size' : 12 } )\n",
    "plt.figure( figsize = ( 20, 7 ) )   \n",
    "plt.title( \"$$\" ) \n",
    "plt.title( \"$||P1 -a||_1+||P1 -b||_1$\" ) \n",
    "for i in range( len( results_semi_dual_dampedNewton_with_preconditioner_EI ) ): \n",
    "  error = np.asarray( results_semi_dual_dampedNewton_with_preconditioner_EI[i]['error'] ) \n",
    "  plt.plot( error, label = 'Semi dual damped Newton with preconditioning for $\\epsilon = $'+ str(withprecond_epsilons[i]), linewidth = 2 ) \n",
    "# end for\n",
    "plt.xlabel( \" Number of iterations \" )  \n",
    "plt.ylabel( \" Error in log-scale \" )  \n",
    "plt.legend( loc = \"upper right\" ) \n",
    "plt.yscale( 'log' ) \n",
    "plt.savefig( \"../Images/SemiDual_dampedNewton_images_numpy/Error_Semi_DualNewton_Exact_Inversion.pdf\", format = 'pdf' )  \n",
    "plt.show() \n",
    "print( \"\\n Error plots can increase! The error is not the objective function!\" ) "
   ]
  },
  {
   "cell_type": "markdown",
   "metadata": {},
   "source": [
    "#### Objective function plot"
   ]
  },
  {
   "cell_type": "code",
   "execution_count": null,
   "metadata": {},
   "outputs": [],
   "source": [
    "plt.rcParams.update( { 'font.size' : 12 } )\n",
    "plt.figure( figsize = ( 12, 5 ) )\n",
    "plt.title( \"$$\" )\n",
    "plt.title( \" Objective Function \" )\n",
    "for i in range( len( results_semi_dual_dampedNewton_with_preconditioner_EI ) ):\n",
    "  value = np.asarray( results_semi_dual_dampedNewton_with_preconditioner_EI[i]['objectives'] )\n",
    "  plt.plot( value,label = 'Semi dual damped Newton with preconditioning for $\\epsilon = $'+ str(withprecond_epsilons[i]), linewidth = 2 )\n",
    "# end for\n",
    "plt.xlabel( \" Number of iterations \" )\n",
    "plt.ylabel( \" Objective value \" )\n",
    "plt.legend( loc = \"upper right\" )\n",
    "plt.savefig( \"../Images/SemiDual_dampedNewton_images_numpy/ObjectiveSemi_DualNewton_Exact_Inversion.pdf\", format = 'pdf' )\n",
    "plt.show()"
   ]
  },
  {
   "cell_type": "markdown",
   "metadata": {},
   "source": [
    "#### Ascent step-size plot"
   ]
  },
  {
   "cell_type": "code",
   "execution_count": null,
   "metadata": {},
   "outputs": [],
   "source": [
    "plt.rcParams.update( { 'font.size' : 12 } )\n",
    "plt.figure( figsize = ( 20, 7 ) )\n",
    "plt.subplot( 2, 1, 1 )\n",
    "plt.title( \"Alpha\" )\n",
    "for i in range( len( results_semi_dual_dampedNewton_with_preconditioner_EI ) ):\n",
    "  plt.plot( np.asarray( results_semi_dual_dampedNewton_with_preconditioner_EI[i][\"linesearch_steps\"] ), label = 'Semi dual damped Newton with preconditioning for $\\epsilon = $'+ str(withprecond_epsilons[i]), linewidth = 2 )\n",
    "# end for\n",
    "plt.xlabel( \"Number of iterations\" )\n",
    "plt.ylabel( \"Alpha in log-scale\" ) \n",
    "plt.legend( loc = \"upper right\" )\n",
    "plt.savefig( \"../Images/SemiDual_dampedNewton_images_numpy/AlphaSemi_DualNewton_Exact_Inversion.pdf\", format = 'pdf' )\n",
    "plt.show()"
   ]
  },
  {
   "cell_type": "markdown",
   "metadata": {},
   "source": [
    "#### Average time plot"
   ]
  },
  {
   "cell_type": "code",
   "execution_count": null,
   "metadata": {},
   "outputs": [],
   "source": [
    "text = [\n",
    "        \"Preconditioning 1: Form E data\",\n",
    "        \"Preconditioning 2: Form P data\",\n",
    "        \"Form preconditioning functions\",\n",
    "        \"Invert the linear system for p_k\",\n",
    "        \"Unwinding\",\n",
    "        \"Complete code block\"\n",
    "        ]\n",
    "\n",
    "plt.figure( figsize = ( 20, 10 ) )  \n",
    "for j in range( len(results_semi_dual_dampedNewton_with_preconditioner_EI[0]['timings'][0]) ):\n",
    "  values = []\n",
    "  for i in range( len(results_semi_dual_dampedNewton_with_preconditioner_EI) ):\n",
    "    mean = 0\n",
    "    for k in range( len(results_semi_dual_dampedNewton_with_preconditioner_EI[i]['timings']) ):\n",
    "      mean += results_semi_dual_dampedNewton_with_preconditioner_EI[i]['timings'][k][j]\n",
    "    # end for\n",
    "    mean = mean/len( results_semi_dual_dampedNewton_with_preconditioner_EI[i]['timings'] ) \n",
    "    values.append( mean )\n",
    "  # end for\n",
    "  if len(withprecond_epsilons) == len(values):\n",
    "    plt.plot( withprecond_epsilons, np.asarray(values), label = text[j], linewidth = 2 )\n",
    "    plt.legend( loc = \"upper right\" )\n",
    "# end for\n",
    "plt.xlabel( \"$\\epsilon$\" )\n",
    "plt.ylabel( \"Time in ms\" )\n",
    "plt.savefig( \"../Images/SemiDual_dampedNewton_images_numpy/Timings_Semi_DualNewton_Exact_Inversion.pdf\", format = 'pdf' )\n",
    "plt.show()"
   ]
  },
  {
   "cell_type": "markdown",
   "metadata": {},
   "source": [
    "## True preconditioning with iterative inversion"
   ]
  },
  {
   "cell_type": "code",
   "execution_count": null,
   "metadata": {},
   "outputs": [],
   "source": [
    "print(  \" Semi dual damped Newton with preconditioning and iterative inversion... \"  )\n",
    "print( \" Doing for (\",N[0], N[1],\"). \" )\n",
    "rho = 0.6\n",
    "c = 0.1\n",
    "reset_starting_point = True  \n",
    "final_modified_Hessians_I_inv = []\n",
    "Semi_dual_dampedNewton_with_preconditionerP_I_inv = []\n",
    "results_semi_dual_dampedNewton_with_preconditioner_I_inv = []\n",
    "times_semi_dual_dampedNewton_with_preconditioner_I_inv = []\n",
    "iter_inv = 20\n",
    "r_tol = 1e-5 \n",
    "a_tol = 1e-12\n",
    "f = None\n",
    "for eps in withprecond_epsilons :\n",
    "    print( \" For epsilon = \"+str(eps)+\":\" )    \n",
    "    if f is None:\n",
    "        f = a * 0\n",
    "    print( \" |- Iterating\" )  \n",
    "    start =time.time() \n",
    "    Optimizer = computational_OT.semi_dual_dampedNewton_with_precodonditioning_np(  C,\n",
    "                                                                                    a,\n",
    "                                                                                    b,\n",
    "                                                                                    f,\n",
    "                                                                                    eps,\n",
    "                                                                                    rho,\n",
    "                                                                                    c,\n",
    "                                                                                    null_vector,\n",
    "                                                                                    precond_vectors[:],\n",
    "                                                                                    exp_log = \"True\" )\n",
    "    out = Optimizer._update(    max_iterations = 50,\n",
    "                                iterative_inversion = iter_inv,\n",
    "                                relative_tol = r_tol,\n",
    "                                absolute_tol = a_tol,\n",
    "                                version = None,\n",
    "                                debug = False,\n",
    "                                optType = 'cg' )\n",
    "    results_semi_dual_dampedNewton_with_preconditioner_I_inv.append( out )\n",
    "    end = time.time()\n",
    "    times_semi_dual_dampedNewton_with_preconditioner_I_inv.append( end - start )\n",
    "    print( \" |- Computing P\" )\n",
    "    print( \"\" )\n",
    "    u_opt = np.exp( out['potential_f']/eps )\n",
    "    K = np.exp( - C/eps )\n",
    "    v_opt =  np.exp( out['potential_g']/eps )\n",
    "    P_opt = GetP( u_opt, K, v_opt )\n",
    "    Semi_dual_dampedNewton_with_preconditionerP_I_inv.append( P_opt )\n",
    "    if not reset_starting_point:                   \n",
    "        f = Optimizer.x[:a.shape[0]]\n",
    "        g = Optimizer.x[a.shape[0]:]\n",
    "    final_modified_Hessians_I_inv.append( Optimizer.modified_Hessian )\n",
    "# end for"
   ]
  },
  {
   "cell_type": "markdown",
   "metadata": {},
   "source": [
    "#### Error plot"
   ]
  },
  {
   "cell_type": "code",
   "execution_count": null,
   "metadata": {},
   "outputs": [],
   "source": [
    "plt.rcParams.update( { 'font.size' : 12 } )\n",
    "plt.figure( figsize  = ( 20, 7 ) )   \n",
    "plt.title( \"$$\" ) \n",
    "plt.title( \"$||P1 -a||_1+||P1 -b||_1$\" ) \n",
    "for i in range( len( results_semi_dual_dampedNewton_with_preconditioner_I_inv ) ): \n",
    "  error = np.asarray( results_semi_dual_dampedNewton_with_preconditioner_I_inv[i]['error'] ) \n",
    "  plt.plot( error, label = 'Semi dual damped Newton with preconditioning for $\\epsilon = $'+ str(withprecond_epsilons[i]), linewidth = 2 ) \n",
    "# end for\n",
    "plt.xlabel( \" Number of iterations \" )  \n",
    "plt.ylabel( \" Error in log-scale \" )  \n",
    "plt.legend( loc = \"upper right\" ) \n",
    "plt.yscale( 'log' ) \n",
    "plt.savefig( \"../Images/SemiDual_dampedNewton_images_numpy/Error_Semi_DualNewton_CG.pdf\", format = 'pdf' ) \n",
    "plt.show() \n",
    "print( \"\\n Error plots can increase! The error is not the objective function!\" ) "
   ]
  },
  {
   "cell_type": "markdown",
   "metadata": {},
   "source": [
    "#### Objective function plot"
   ]
  },
  {
   "cell_type": "code",
   "execution_count": null,
   "metadata": {},
   "outputs": [],
   "source": [
    "plt.rcParams.update( { 'font.size' : 12 } )\n",
    "plt.figure( figsize = ( 12, 5 ) )\n",
    "plt.title( \"$$\" )\n",
    "plt.title( \" Objective Function \" )\n",
    "for i in range( len( results_semi_dual_dampedNewton_with_preconditioner_I_inv ) ):\n",
    "  value = np.asarray( results_semi_dual_dampedNewton_with_preconditioner_I_inv[i]['objectives'] )\n",
    "  plt.plot( value,label = 'Semi dual damped Newton with preconditioning for $\\epsilon = $'+ str(withprecond_epsilons[i]), linewidth = 2 )\n",
    "# end for\n",
    "plt.xlabel( \" Number of iterations \" )\n",
    "plt.ylabel( \" Objective value \" )\n",
    "plt.legend( loc = \"upper right\" )\n",
    "plt.savefig( \"../Images/SemiDual_dampedNewton_images_numpy/ObjectiveSemi_DualNewton_CG.pdf\", format = 'pdf' )\n",
    "plt.show()"
   ]
  },
  {
   "cell_type": "markdown",
   "metadata": {},
   "source": [
    "#### Ascent step-size plot"
   ]
  },
  {
   "cell_type": "code",
   "execution_count": null,
   "metadata": {},
   "outputs": [],
   "source": [
    "plt.rcParams.update( { 'font.size' : 12 } )\n",
    "plt.figure( figsize = ( 20, 7 ) )\n",
    "plt.subplot( 2, 1, 1 )\n",
    "plt.title( \"Alpha\" )\n",
    "for i in range( len( results_semi_dual_dampedNewton_with_preconditioner_I_inv ) ):\n",
    "  plt.plot( np.asarray( results_semi_dual_dampedNewton_with_preconditioner_I_inv[i][\"linesearch_steps\"] ), label = 'Semi dual damped Newton with preconditioning for $\\epsilon = $'+ str(withprecond_epsilons[i]), linewidth = 2 )\n",
    "# end for\n",
    "plt.xlabel( \"Number of iterations\" )\n",
    "plt.ylabel( \"Alpha in log-scale\" ) \n",
    "plt.legend( loc = \"upper right\" )\n",
    "plt.savefig( \"../Images/SemiDual_dampedNewton_images_numpy/AlphaSemi_DualNewton_CG.pdf\", format = 'pdf' )\n",
    "plt.show()"
   ]
  },
  {
   "cell_type": "markdown",
   "metadata": {},
   "source": [
    "#### Average time plot"
   ]
  },
  {
   "cell_type": "code",
   "execution_count": null,
   "metadata": {},
   "outputs": [],
   "source": [
    "plt.rcParams.update( { 'font.size' : 12 } )\n",
    "text = [\n",
    "        \"Preconditioning 1: Form E data\",\n",
    "        \"Preconditioning 2: Form P data\",\n",
    "        \"Form preconditioning functions\",\n",
    "        \"Invert the linear system for p_k\",\n",
    "        \"Unwinding\",\n",
    "        \"Complete code block\"\n",
    "        ]\n",
    "\n",
    "plt.figure( figsize = ( 20, 10 ) )  \n",
    "for j in range( len(results_semi_dual_dampedNewton_with_preconditioner_I_inv[0]['timings'][0]) ):\n",
    "  values = []\n",
    "  for i in range( len(results_semi_dual_dampedNewton_with_preconditioner_I_inv) ):\n",
    "    mean = 0\n",
    "    for k in range( len(results_semi_dual_dampedNewton_with_preconditioner_I_inv[i]['timings']) ):\n",
    "      mean += results_semi_dual_dampedNewton_with_preconditioner_I_inv[i]['timings'][k][j]\n",
    "    # end for\n",
    "    mean = mean/len( results_semi_dual_dampedNewton_with_preconditioner_I_inv[i]['timings'] ) \n",
    "    values.append( mean )\n",
    "  # end for\n",
    "  if len(withprecond_epsilons) == len(values):\n",
    "    plt.plot( withprecond_epsilons, np.asarray(values), label = text[j], linewidth = 2 )\n",
    "    plt.legend( loc = \"upper right\" )\n",
    "# end for\n",
    "plt.xlabel( \"$\\epsilon$\" )\n",
    "plt.ylabel( \"Time in ms\" )\n",
    "plt.savefig( \"../Images/SemiDual_dampedNewton_images_numpy/Timings_Semi_DualNewton_CG.pdf\", format = 'pdf' )\n",
    "plt.show()"
   ]
  },
  {
   "cell_type": "markdown",
   "metadata": {},
   "source": [
    "## Time plot to compare exact inversion and iterative inversion convergence of semi dual damped Newton"
   ]
  },
  {
   "cell_type": "code",
   "execution_count": null,
   "metadata": {},
   "outputs": [],
   "source": [
    "plt.rcParams.update( { 'font.size' : 12 } )                                                                                                                          \n",
    "plt.figure( figsize = ( 20, 7 ) )   \n",
    "plt.title( \"$$\" ) \n",
    "plt.title( \"Time plot\" ) \n",
    "plt.plot( times_semi_dual_dampedNewton_with_preconditioner_EI[::-1], label = 'Semi dual damped Newton with true preconditioning and exact inversion with '+str(num_eigs)+ ' preconditioning vectors', linewidth = 2, marker = 'o' ) \n",
    "plt.plot( times_semi_dual_dampedNewton_with_preconditioner_I_inv[::-1], label = 'Semi dual damped Newton with true preconditioning and CG with (num_precond, iter_inv, atol, rtol) = ('+str(num_eigs)+', '+str(iter_inv)+', '+str(a_tol)+',  '+str(r_tol)+') ', linewidth = 2, marker = 'o' ) \n",
    "plt.xticks( np.arange( len( withprecond_epsilons ) ), withprecond_epsilons[::-1] ) \n",
    "plt.xlabel( \"$\\epsilon$\" )  \n",
    "plt.ylabel( \"Time in sec\" ) \n",
    "plt.legend( loc = \"upper right\" )\n",
    "plt.savefig( \"../Images/SemiDual_dampedNewton_images_numpy/Timeplot_EI_vs_II.pdf\", format = 'pdf' ) \n",
    "plt.show()                                                                                                                                                                                                                                                                                                                                                                                                                                                                                                                                                                        "
   ]
  },
  {
   "cell_type": "code",
   "execution_count": null,
   "metadata": {},
   "outputs": [],
   "source": []
  }
 ],
 "metadata": {
  "kernelspec": {
   "display_name": ".venv_computational-OT",
   "language": "python",
   "name": "python3"
  },
  "language_info": {
   "codemirror_mode": {
    "name": "ipython",
    "version": 3
   },
   "file_extension": ".py",
   "mimetype": "text/x-python",
   "name": "python",
   "nbconvert_exporter": "python",
   "pygments_lexer": "ipython3",
   "version": "3.12.3"
  }
 },
 "nbformat": 4,
 "nbformat_minor": 2
}
