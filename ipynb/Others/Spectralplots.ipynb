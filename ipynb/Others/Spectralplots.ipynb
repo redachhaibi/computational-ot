{
 "cells": [
  {
   "cell_type": "markdown",
   "metadata": {},
   "source": [
    "# In this notebook we plot the changes in spectrum of the eigenvalues of the Hessian for varying size of preconditioning eigenvectors."
   ]
  },
  {
   "cell_type": "code",
   "execution_count": null,
   "metadata": {},
   "outputs": [],
   "source": [
    "from __future__ import division\n",
    "import os\n",
    "import numpy as np\n",
    "import time\n",
    "import matplotlib.pyplot as plt\n",
    "import warnings\n",
    "warnings.filterwarnings('ignore')\n",
    "np.random.seed(1234)\n",
    "plt.rcParams.update( { 'font.size' :  22 } )\n",
    "%matplotlib inline \n",
    "%load_ext autoreload                                                                                                                                                                            \n",
    "%autoreload "
   ]
  },
  {
   "cell_type": "code",
   "execution_count": null,
   "metadata": {},
   "outputs": [],
   "source": [
    "relative_path_to_new_folder = \"../Images\"\n",
    "os.makedirs(relative_path_to_new_folder, exist_ok = True)\n",
    "if not os.path.isdir('../Images/Spectralplot_images'):\n",
    "    os.makedirs('../Images/Spectralplot_images')"
   ]
  },
  {
   "cell_type": "code",
   "execution_count": null,
   "metadata": {},
   "outputs": [],
   "source": [
    "\"\"\"To compute distance matrix\"\"\"\n",
    "def distmat( x, y ):\n",
    "    return np.sum( x**2, 0 )[:,None] + np.sum( y**2, 0 )[None,:] - 2 * x.transpose().dot( y )\n",
    "\n",
    "\"\"\"To Normalise a vector\"\"\"\n",
    "normalize = lambda a: a/np.sum( a )\n",
    "\n",
    "\"\"\"To Compute P\"\"\"\n",
    "def GetP( u, K, v):\n",
    "    return u[:,None] * K * v[None,:]\n",
    "\n",
    "def plotp( x, col, plt, scale = 200, edgecolors = \"k\" ):\n",
    "  return plt.scatter( x[0,:], x[1,:], s = scale, edgecolors = edgecolors,  c = col, cmap = 'plasma', linewidths = 2 )"
   ]
  },
  {
   "cell_type": "code",
   "execution_count": null,
   "metadata": {},
   "outputs": [],
   "source": [
    "def generate_data(N):\n",
    "    \"\"\"\n",
    "     N is a list of the size of the data on x and y\n",
    "    \"\"\"\n",
    "    x = np.random.rand( 2, N[0] ) - 0.5\n",
    "    theta = 2 * np.pi * np.random.rand( 1, N[1] )\n",
    "    r = 0.8 + .2 * np.random.rand( 1, N[1] )\n",
    "    y = np.vstack( ( r * np.cos( theta ), r * np.sin( theta ) ) )\n",
    "    return x, y"
   ]
  },
  {
   "cell_type": "code",
   "execution_count": null,
   "metadata": {},
   "outputs": [],
   "source": [
    "def spectral_decomposition( mat ):\n",
    "    eig, v = np.linalg.eigh( mat )\n",
    "    sorting_indices = np.argsort( eig )\n",
    "    eig = eig[ sorting_indices ]\n",
    "    v   = v[ : , sorting_indices ]\n",
    "    print( \"List of smallest eigenvalues: \", eig[ : 10 ] )\n",
    "    print( \"List of largest  eigenvalues: \", eig[ - 10 : ] )\n",
    "\n",
    "    return eig, v\n",
    "\n"
   ]
  },
  {
   "cell_type": "code",
   "execution_count": null,
   "metadata": {},
   "outputs": [],
   "source": [
    "def precondition_matrix( matrix, precond_vectors, null_vector ):\n",
    "    diag   = 1/np.sqrt(np.diag( matrix ).flatten())\n",
    "    matrix = diag[:,None] * matrix * diag[None,:]\n",
    "    vector = null_vector\n",
    "    vector = vector/diag\n",
    "    vector = vector/np.linalg.norm( vector )\n",
    "    vector = vector.reshape( (len( vector ), 1) )\n",
    "    matrix = matrix + np.dot( vector, vector.T )\n",
    "    n = null_vector.shape[0]\n",
    "    y = np.array( precond_vectors ).T # Matrix of size n by k\n",
    "    # Compute eigenvalues\n",
    "    Ay = np.dot( matrix, y )\n",
    "    eigenvalues = np.sum( y * Ay, axis = 0 )\n",
    "    # Compute P_matrix = id + y*diag(values)*y.T\n",
    "    values = ( 1/np.sqrt(eigenvalues) - 1 )    # Vector of size k\n",
    "    z = y * values[None,:]\n",
    "    P_matrix = np.identity( n ) + np.dot( z, y.T )\n",
    "    B = np.dot( Ay, z.T )\n",
    "    C = z @ np.dot( y.T, Ay ) @ z.T\n",
    "    matrix = matrix + B + B.T + C\n",
    "    return matrix\n",
    "\n"
   ]
  },
  {
   "cell_type": "code",
   "execution_count": null,
   "metadata": {},
   "outputs": [],
   "source": [
    "import computational_OT"
   ]
  },
  {
   "cell_type": "code",
   "execution_count": null,
   "metadata": {},
   "outputs": [],
   "source": [
    "N = [ 900, 800 ]\n",
    "x, y = generate_data( N )"
   ]
  },
  {
   "cell_type": "markdown",
   "metadata": {},
   "source": [
    "## Entropy regularized formulation\n",
    "\n",
    "The primal entropy regularized formulation of OT is given by:\n",
    "$$\n",
    "OT_{\\varepsilon}(\\alpha,\\beta) = min_{\\pi \\in \\mathcal{U}(\\alpha,\\beta)} \\langle C,\\pi \\rangle +\\varepsilon KL(\\pi\\|\\alpha \\otimes \\beta)\\ ,\n",
    "$$\n",
    "where\n",
    "$\\ \n",
    "KL(\\pi\\|\\alpha \\otimes \\beta) \n",
    "\\ $ is the KL-divergence and $\\ \\mathcal{U}(\\alpha,\\beta)=\\{\\pi: \\pi\\mathcal{1}=\\alpha, \\pi^{T}\\mathcal{1}=\\beta\\}$."
   ]
  },
  {
   "cell_type": "markdown",
   "metadata": {},
   "source": [
    "## Sinkhorn  \n",
    "The optimal coupling $\\pi^{*}$ has the following form :\n",
    "$$\n",
    "\\pi^{*} = \\alpha \\odot diag(u)K diag(v)\\odot \\beta\n",
    "$$\n",
    "and we know that $\\pi^{*}\\mathbb{1}=\\alpha$ and $(\\pi^{*})^{T}\\mathbb{1}=\\beta$.\n",
    "###\n",
    "Therefore, Sinkhorn updates is given by the following alternative projections\n",
    "$$\n",
    "u^{t+1}  \\leftarrow \\frac{1}{K(v^{t}\\odot \\beta)}\\ , \n",
    "v^{t+1}  \\leftarrow \\frac{1}{K^{T}(u^{t+1}\\odot \\alpha)}\\ , \n",
    "$$\n",
    "where \n",
    "$K = e^{-\\frac{C}{\\varepsilon}}\\in M_{n\\times m}(\\mathbb{R}),\\ \\alpha \\in \\mathbb{R}^{n},\\ \\beta \\in \\mathbb{R}^{m}\\ ,\\ u\\in \\mathbb{R}^{n},\\ v\\in \\mathbb{R}^{m}\\ and \\ (u^{0},v^{0})=(u,v)\\ .$\n",
    "\n",
    "\n"
   ]
  },
  {
   "cell_type": "markdown",
   "metadata": {},
   "source": [
    "## Entropy regularized dual-formulation\n",
    "The dual formulation of the entropy regularized OT is given by:\n",
    "$$\n",
    "OT_{\\varepsilon}(\\alpha,\\beta) = \\max_{f\\in \\mathbb{R}^{n}, g\\in\\mathbb{R}^{m}} \\langle f, \\alpha \\rangle + \\langle g, \\beta \\rangle - \\varepsilon\\left(\\langle\\alpha \\otimes \\beta, e^{\\frac{f}{\\varepsilon}}\\odot K \\odot e^{\\frac{g}{\\varepsilon}}  \\rangle-1\\right)\\ ,\n",
    "$$\n",
    "where\n",
    "$$\n",
    "\\alpha \\in \\mathcal{M}_{1}(\\mathcal{X}),\\ \\beta \\in \\mathcal{M}_{1}(\\mathcal{Y}),\\ \\varepsilon>0,\\ f\\in\\mathbb{R}^{n},\\ g\\in \\mathbb{R}^{m}\\ .\n",
    "$$"
   ]
  },
  {
   "cell_type": "markdown",
   "metadata": {},
   "source": [
    "## Log-domain Sinkhorn\n",
    "Now, the exp-log regularized update of the Sinkhorn algorithm is as follows:\n",
    "$$\n",
    "m_{i}(g)\\leftarrow \\min_{j}(C_{ij}-g_{j}^{(t)}),\\ \\forall\\  i = 1,\\dots,n\\ ,\n",
    "$$\n",
    "$$\n",
    "f^{(t+1)}_{i}\\leftarrow -\\varepsilon \\log\\left(\\sum_{j=1}^{m}\\exp\\left(\\frac{-\\left(C_{ij}-g_{j}^{(t)}-m_{i}(g)\\right)}{\\varepsilon}\\right)\\beta_{j}\\right)+m_{i}(g),\\ \\forall\\  i=1,\\dots,n\\ ,\n",
    "$$\n",
    "$$\n",
    "m_{j}(f)\\leftarrow \\min_{i}(C_{ij}-f_{i}^{(t+1)}),\\ \\forall\\   j=1,\\dots,m\\\n",
    " ,\n",
    "$$\n",
    "$$\n",
    "g^{(t+1)}_{j}\\leftarrow -\\varepsilon \\log\\left(\\sum_{i=1}^{n}\\exp\\left(\\frac{-\\left(C_{ij}-f_{i}^{(t+1)}-m_{j}(f)\\right)}{\\varepsilon}\\right)\\alpha_{i}\\right)+m_{j}(f),\\ \\forall\\  j=1,\\dots,m\\ ,\n",
    "$$\n",
    "where \n",
    "$K=e^{-C/\\varepsilon} \\in M_{n \\times m}(\\mathbb{R}),\\ $ $\\varepsilon >0,\\ $ $\\alpha \\in \\mathbb{R}^{n},\\ $ $\\beta \\in \\mathbb{R}^{m},\\ $\n",
    "   $f \\in \\mathbb{R}^{n},\\ $ $g \\in \\mathbb{R}^{m}\\ and \\ (f^{(0)},g^{(0)})=(f,g)$.\n"
   ]
  },
  {
   "attachments": {},
   "cell_type": "markdown",
   "metadata": {},
   "source": [
    "## Log-domain Sinkhorn "
   ]
  },
  {
   "cell_type": "code",
   "execution_count": null,
   "metadata": {},
   "outputs": [],
   "source": [
    "# Log domain Sinkhorn\n",
    "print( \"Log domain Sinkhorn... \" )\n",
    "print( \"Doing for (\",N[0], N[1],\").\" )\n",
    "results_logSinkhorn = []\n",
    "times_logSinkhorn   = []\n",
    "logsinkhornP        = []\n",
    "epsilons = [ 0.5, 0.1, 0.05, 0.01, 0.005, 0.001 ]\n",
    "#Cost matrix\n",
    "C = distmat( x, y )\n",
    "a = normalize( np.ones( N[0] ) )\n",
    "b = normalize( np.ones( N[1] ) )\n",
    "for eps in epsilons:\n",
    "  print( \"For epsilon = \"+str(eps)+\":\" )    \n",
    "  print( \" |- Iterating\" )\n",
    "  start = time.time()\n",
    "  logsinkhorn = computational_OT.log_domainSinkhorn_np(   a,\n",
    "                                                          b,\n",
    "                                                          C,\n",
    "                                                          eps )\n",
    "  out = logsinkhorn.update( max_iterations = 20000 )\n",
    "  results_logSinkhorn.append( out )\n",
    "  end = time.time()\n",
    "  times_logSinkhorn.append( end - start )\n",
    "  print( \" |- Computing P\" )\n",
    "  print( \"\" )\n",
    "  u_opt = np.exp( out['potential_f']/eps )\n",
    "  K = np.exp( - C/eps )\n",
    "  v_opt =  np.exp( out['potential_g']/eps )\n",
    "  P_opt = GetP( u_opt, K, v_opt )\n",
    "  logsinkhornP.append( P_opt )\n",
    "# end for"
   ]
  },
  {
   "attachments": {},
   "cell_type": "markdown",
   "metadata": {},
   "source": [
    "#### Error plot"
   ]
  },
  {
   "cell_type": "code",
   "execution_count": null,
   "metadata": {},
   "outputs": [],
   "source": [
    "plt.figure( figsize = ( 20, 7 ) )\n",
    "plt.subplot( 2, 1, 1 ),\n",
    "plt.title( \"$||P1 -a||_1+||P1 -b||_1$\" )\n",
    "for i in range( len( results_logSinkhorn) ):\n",
    "  error = np.asarray( results_logSinkhorn[i]['error'] )\n",
    "  plt.plot( error, label = 'Log-sinkhorn for $\\epsilon = $'+ str(epsilons[i]) , linewidth = 2 )\n",
    "# end for\n",
    "plt.yscale( 'log' )\n",
    "plt.legend( loc = 'upper right' )\n",
    "plt.xlabel( \"Iterations\" )\n",
    "plt.ylabel( \"Error in log-scale\" )\n",
    "plt.show()"
   ]
  },
  {
   "cell_type": "code",
   "execution_count": null,
   "metadata": {},
   "outputs": [],
   "source": [
    "flogsinkhorn, glogsinkhorn = [], []\n",
    "for i in range(len(results_logSinkhorn)):\n",
    "    flogsinkhorn.append(results_logSinkhorn[i]['potential_f'])\n",
    "    glogsinkhorn.append(results_logSinkhorn[i]['potential_g'])\n",
    "# end for"
   ]
  },
  {
   "attachments": {},
   "cell_type": "markdown",
   "metadata": {},
   "source": [
    "#### Spectral plot"
   ]
  },
  {
   "attachments": {},
   "cell_type": "markdown",
   "metadata": {},
   "source": [
    "##### Forming the unnormalised Hessian"
   ]
  },
  {
   "cell_type": "code",
   "execution_count": null,
   "metadata": {},
   "outputs": [],
   "source": [
    "Hessians_logsinkhorn = []\n",
    "for i in range(len(epsilons)):\n",
    "    u  = np.exp( ( results_logSinkhorn[i]['potential_f'] )/epsilons[i] )  \n",
    "    v  = np.exp( ( results_logSinkhorn[i]['potential_g'] )/epsilons[i] )\n",
    "    K  = np.exp( - C/epsilons[i] )\n",
    "    r1 = u[:,None] * np.dot( K, v )[:,None] \n",
    "    r2 = v[:,None] * np.dot( K.T, u )[:,None]                                \n",
    "    P  = u[:,None] * np.exp( - C/epsilons[i] ) * v[None,:]\n",
    "    A  = np.diag( np.array( r1.reshape( r1.shape[0], ) ) )\n",
    "    B  = P       \n",
    "    C_  = P.T\n",
    "    D  = np.diag( np.array( r2.reshape( r2.shape[0], ) ) )\n",
    "    result = np.vstack( ( np.hstack( ( A, B ) ), np.hstack( ( C_, D ) ) ) )    \n",
    "    Hessians_logsinkhorn.append( result ) \n",
    "# end for"
   ]
  },
  {
   "cell_type": "code",
   "execution_count": null,
   "metadata": {},
   "outputs": [],
   "source": [
    "eigs = []\n",
    "eigvecs = []\n",
    "for i in range(len(epsilons)):\n",
    "    eps = epsilons[i]\n",
    "    print( \"Spectral statistics of Hessian for epsilon = \"+str(eps) )\n",
    "    diag   = 1/np.sqrt( np.diag( Hessians_logsinkhorn[i] ).flatten())\n",
    "    result = diag[:,None] * Hessians_logsinkhorn[i] * diag[None,:]\n",
    "    ev = spectral_decomposition( result )\n",
    "    eigs.append( ev[0] )\n",
    "    eigvecs.append( ev[1] )\n",
    "    print( \"\" )  \n",
    "# end for"
   ]
  },
  {
   "cell_type": "code",
   "execution_count": null,
   "metadata": {},
   "outputs": [],
   "source": [
    "plt.rcParams.update( { 'font.size' : 8 } )\n",
    "fig,ax = plt.subplots( figsize = ( 5, 12 ), nrows = len(epsilons), ncols = 1, sharey = True )\n",
    "plt.title( \"Histogram of eigenvalues.\" )\n",
    "plt.subplots_adjust( wspace = 0, hspace = 0.5 )\n",
    "p = np.log10( 0.5 )\n",
    "for i in range(len(epsilons)):\n",
    "    ax[i].hist( eigs[i], 50 )\n",
    "    ax[i].set_title( \" $\\epsilon$: \"+str(epsilons[i]) )\n",
    "    ax[i].set_ylim( ymin = 10**p ) \n",
    "    ax[i].set_yscale( \"log\" )\n",
    "# end for   \n",
    "plt.subplots_adjust( wspace = 0, hspace = 0.4 )\n",
    "fig.savefig(\"../Images/Spectralplot_images/WithoutPreconditionedHistograms_LogSinkhorn.pdf\", format = 'pdf',  bbox_inches = 'tight' )\n",
    "plt.show()"
   ]
  },
  {
   "attachments": {},
   "cell_type": "markdown",
   "metadata": {},
   "source": [
    "##### Spectral plots with preconditioning"
   ]
  },
  {
   "cell_type": "code",
   "execution_count": null,
   "metadata": {},
   "outputs": [],
   "source": [
    "def build_preconditioners( num_eigs, modified_Hessian, ansatz = True ):\n",
    "    # Diagonalize\n",
    "    eigenvalues, eigenvectors = np.linalg.eigh( modified_Hessian )\n",
    "    sorting_indices = np.argsort( eigenvalues )\n",
    "    eigenvalues  = eigenvalues[ sorting_indices ]\n",
    "    eigenvectors = eigenvectors[ : , sorting_indices ]\n",
    "    # Form null vector\n",
    "    if not ansatz:\n",
    "        null_vector = eigenvectors[ : , 0 ]\n",
    "    else:\n",
    "        null_vector = np.hstack( ( np.ones(N[0]), - np.ones(N[1]) ) )\n",
    "        norm = np.sqrt( N[0] + N[1] )\n",
    "        null_vector = null_vector/norm\n",
    "    # Form other vectors (only 13)\n",
    "    _, m = eigenvectors.shape\n",
    "    indices=[]\n",
    "    for i in range(num_eigs//2):\n",
    "        indices.append( m - i - 2 )\n",
    "        indices.append( i + 1 )\n",
    "    # end for\n",
    "    if num_eigs%2 != 0:\n",
    "        indices.append( m - 1 - ( num_eigs//2 ) )\n",
    "   \n",
    "    precond_vectors = eigenvectors[ :, indices ]\n",
    "    precond_vectors = []\n",
    "    for index in indices:\n",
    "        precond_vectors.append( eigenvectors[ : ,index ] )\n",
    "    # end fdr\n",
    "    return null_vector, precond_vectors"
   ]
  },
  {
   "cell_type": "code",
   "execution_count": null,
   "metadata": {},
   "outputs": [],
   "source": [
    "num_eigs = [ 0, 50, 100, 200, 400, 800, 1098 ]\n",
    "preconditioned_Hessians = {}\n",
    "for numeigs  in  range(len(num_eigs)):\n",
    "    preconditioned_Hessians[num_eigs[numeigs]] = []\n",
    "    for i in  range(len(epsilons)):\n",
    "        diag = 1/np.sqrt(np.diag( Hessians_logsinkhorn[i] ).flatten())\n",
    "        result = diag[:,None] * Hessians_logsinkhorn[i] * diag[None,:]\n",
    "        if num_eigs[numeigs] != 0:\n",
    "            null_vector, precond_vectors = build_preconditioners( num_eigs[ numeigs ], result, ansatz = False )\n",
    "            # vector = null_vector\n",
    "            # vector = vector/diag\n",
    "            # vector = vector/np.linalg.norm( vector )\n",
    "            # vector = vector.reshape( ( len( vector ), 1) )\n",
    "            # result = result + np.dot( vector, vector.T )\n",
    "            y_ = np.array( precond_vectors ).T # Matrix of size n by k\n",
    "            # Compute eigenvalues\n",
    "            Ay = np.dot( result, y_ )\n",
    "            eigenvalues = np.sum( y_ * Ay, axis = 0 )\n",
    "            # Compute P_matrix = id + y*diag(values)*y.T\n",
    "            values = ( 1/np.sqrt(eigenvalues) - 1 )    # Vector of size k\n",
    "            z = y_ * values[None,:]\n",
    "            B = np.dot( Ay, z.T )\n",
    "            C_ = z @ np.dot( y_.T, Ay ) @ z.T\n",
    "            result = result + B + B.T + C_\n",
    "        preconditioned_Hessians[ num_eigs[ numeigs ] ].append( result )\n",
    "    # end for\n",
    "# end for"
   ]
  },
  {
   "cell_type": "code",
   "execution_count": null,
   "metadata": {},
   "outputs": [],
   "source": [
    "eigs = {}\n",
    "for numeigs in  range(len(num_eigs)):\n",
    "    print( \"For number of preconditioning eigenvectors: \", num_eigs[ numeigs ] )\n",
    "    eigs[ num_eigs[ numeigs ] ] = []\n",
    "    for i in range(len(epsilons)):\n",
    "        eps = epsilons[i]\n",
    "        print( \"Spectral statistics of Hessian for epsilon = \"+str(eps) )\n",
    "        ev = spectral_decomposition( preconditioned_Hessians[ num_eigs[ numeigs ] ][i] )\n",
    "        eigs[ num_eigs[ numeigs ] ].append( ev[0] )\n",
    "        print( \"\" )\n",
    "    # end for\n",
    "    print( \"\" )\n",
    "# end for"
   ]
  },
  {
   "cell_type": "code",
   "execution_count": null,
   "metadata": {},
   "outputs": [],
   "source": [
    "plt.rcParams.update( { 'font.size' : 100 } )\n",
    "fig,ax = plt.subplots( figsize = ( 140, 140 ), nrows = len(num_eigs), ncols = len(epsilons), sharey = True, sharex = False )\n",
    "plt.subplots_adjust( wspace = 0, hspace = 0.4 )\n",
    "p = np.log10( 0.5 )   \n",
    "for numeigs in range(len(num_eigs)):\n",
    "    for i in range(len(epsilons)):\n",
    "        ax[ numeigs ][i].hist( eigs[ num_eigs[numeigs] ][i], 50, rwidth = 0.9 )\n",
    "        ax[ numeigs ][i].set_title( \" k = \"+str(num_eigs[numeigs])+\", $\\epsilon$ = \" +str(epsilons[i])+ \"\" )\n",
    "        ax[ numeigs ][i].set_ylim( ymin = 10**p )\n",
    "        ax[ numeigs ][i].set_yscale( \"log\" )  \n",
    "# end for                                \n",
    "ax[ len(num_eigs) - 1 ][ len(epsilons) - 1 ].set_xticks( [ 0, 1, 2 ])\n",
    "fig.savefig(\"../Images/Spectralplot_images/PreconditionedHistograms_LogSinkhorn.pdf\", format = 'pdf', bbox_inches = \"tight\" )\n",
    "plt.show()\n"
   ]
  },
  {
   "attachments": {},
   "cell_type": "markdown",
   "metadata": {},
   "source": [
    "## Sinkhorn"
   ]
  },
  {
   "cell_type": "code",
   "execution_count": null,
   "metadata": {},
   "outputs": [],
   "source": [
    "# Sinkhorn\n",
    "print(\"Sinkhorn... \")\n",
    "print(\"Doing for (\",N[0], N[1],\").\")\n",
    "SinkhornP = []\n",
    "results_Sinkhorn = []\n",
    "times_Sinkhorn = []\n",
    "epsilons = [ 0.1 , 0.05 , 0.01, 0.005,  0.001 ]\n",
    " # a and b\n",
    "a = normalize( np.ones( N[0] ) )\n",
    "b = normalize( np.ones( N[1] ) )\n",
    "#Cost matrix\n",
    "C = distmat( x, y )\n",
    "for eps in epsilons:  \n",
    "  print(\"For epsilon: \", eps)\n",
    "  #Kernel\n",
    "  K = np.exp( - C/eps )\n",
    "  print( \" |- Iterating\")\n",
    "  #Inflating\n",
    "  u = a\n",
    "  v = b\n",
    "  start     = time.time()\n",
    "  Optimizer = computational_OT.sinkhorn(  K,\n",
    "                                          a,\n",
    "                                          b,\n",
    "                                          u,\n",
    "                                          v,\n",
    "                                          eps )\n",
    "  out = Optimizer._update()\n",
    "  results_Sinkhorn.append(out)\n",
    "  end       = time.time()\n",
    "  times_Sinkhorn.append( end - start  )\n",
    "  print( \" |- Computing P\" )\n",
    "  print( \"\" )\n",
    "  u_opt = np.exp( out['potential_f']/eps )\n",
    "  K = np.exp( - C/eps )\n",
    "  v_opt =  np.exp( out['potential_g']/eps )\n",
    "  P_opt = GetP( u_opt, K, v_opt )\n",
    "  SinkhornP.append( P_opt )\n",
    "# end for  "
   ]
  },
  {
   "cell_type": "code",
   "execution_count": null,
   "metadata": {},
   "outputs": [],
   "source": [
    "fsinkhorn, gsinkhorn = [], []\n",
    "for i in range(len(results_Sinkhorn)):\n",
    "    fsinkhorn.append(results_Sinkhorn[i]['potential_f'])\n",
    "    gsinkhorn.append(results_Sinkhorn[i]['potential_g'])\n",
    "# end for"
   ]
  },
  {
   "attachments": {},
   "cell_type": "markdown",
   "metadata": {},
   "source": [
    "#### Error plot"
   ]
  },
  {
   "cell_type": "code",
   "execution_count": null,
   "metadata": {},
   "outputs": [],
   "source": [
    "plt.rcParams.update( { 'font.size' :  22 } )\n",
    "plt.figure( figsize = ( 20, 7 ) )\n",
    "plt.subplot( 2, 1, 1 ),\n",
    "plt.title( \"$||P1 -a||_1+||P1 -b||_1$\" )\n",
    "for i in range( len(results_Sinkhorn) ):\n",
    "  error = np.asarray( results_Sinkhorn[i]['error_a'] ) + np.asarray( results_Sinkhorn[i]['error_b'] )\n",
    "  plt.plot( error, label = 'Sinkhorn for $\\epsilon = $'+ str(epsilons[i]), linewidth = 2 )\n",
    "# end for\n",
    "plt.yscale( 'log' )\n",
    "plt.legend( loc = 'upper right' )\n",
    "plt.xlabel( \"Iterations\" )\n",
    "plt.ylabel( \"Error in log-scale\" )\n",
    "plt.show()"
   ]
  },
  {
   "attachments": {},
   "cell_type": "markdown",
   "metadata": {},
   "source": [
    "#### Spectral plot"
   ]
  },
  {
   "cell_type": "code",
   "execution_count": null,
   "metadata": {},
   "outputs": [],
   "source": [
    "Hessians_sinkhorn = []\n",
    "for i in range(len(epsilons)):\n",
    "    u  = np.exp( ( results_Sinkhorn[i]['potential_f'] )/epsilons[i] )  \n",
    "    v  = np.exp( ( results_Sinkhorn[i]['potential_g'] )/epsilons[i] )\n",
    "    K  = np.exp( - C/epsilons[i] )\n",
    "    r1 = u[:,None] * np.dot( K, v )[:,None] \n",
    "    r2 = v[:,None] * np.dot( K.T, u )[:,None]                                \n",
    "    P  = u[:,None] * np.exp( - C/epsilons[i] ) * v[None,:]\n",
    "    A  = np.diag( np.array( r1.reshape( r1.shape[0], ) ) )\n",
    "    B  = P       \n",
    "    C_ = P.T\n",
    "    D  = np.diag( np.array( r2.reshape( r2.shape[0], ) ) )\n",
    "    result = np.vstack( ( np.hstack( ( A, B ) ), np.hstack( ( C_, D )) ) )    \n",
    "    Hessians_sinkhorn.append( result )\n",
    "# end for"
   ]
  },
  {
   "cell_type": "code",
   "execution_count": null,
   "metadata": {},
   "outputs": [],
   "source": [
    "eigs = []\n",
    "eigvecs = []\n",
    "for i in range(len(epsilons)):\n",
    "    eps = epsilons[i]\n",
    "    print(\"Spectral statistics of Hessian for epsilon = \"+str(eps))\n",
    "    diag   = 1/np.sqrt(np.diag( Hessians_sinkhorn[i] ).flatten())\n",
    "    result = diag[:,None] * Hessians_sinkhorn[i] * diag[None,:]\n",
    "    ev = spectral_decomposition( result )\n",
    "    eigs.append( ev[0] )\n",
    "    eigvecs.append( ev[1] )\n",
    "    print(\"\")\n",
    "# end for"
   ]
  },
  {
   "cell_type": "code",
   "execution_count": null,
   "metadata": {},
   "outputs": [],
   "source": [
    "fig, ax = plt.subplots( figsize = ( 36, 6 ), nrows = 1, ncols = len(epsilons), sharey = False )\n",
    "plt.title(\"Histogram of eigenvalues.\")\n",
    "for i in range(len(epsilons)):\n",
    "    ax[i].hist( eigs[i], 50 )\n",
    "    ax[i].set_title( \" $\\epsilon$: \"+str(epsilons[i]) )\n",
    "    ax[i].set_xlabel( \"Eigenvalues\" )\n",
    "    ax[i].set_yscale( \"log\" )       \n",
    "# end for\n",
    "plt.subplots_adjust( wspace = 0, hspace = 0 )\n",
    "plt.show()"
   ]
  },
  {
   "attachments": {},
   "cell_type": "markdown",
   "metadata": {},
   "source": [
    "##### Spectral plots with preconditioning"
   ]
  },
  {
   "cell_type": "code",
   "execution_count": null,
   "metadata": {},
   "outputs": [],
   "source": [
    "num_eigs = [ 0, 50, 100, 200, 400, 800, 1098 ]\n",
    "preconditioned_Hessians = {}\n",
    "for numeigs  in  range(len(num_eigs)):\n",
    "    preconditioned_Hessians[ num_eigs[ numeigs ] ] = []\n",
    "    for i in  range(len(epsilons)):\n",
    "        diag   = 1/np.sqrt(np.diag( Hessians_logsinkhorn[i] ).flatten())\n",
    "        result = diag[:,None] * Hessians_logsinkhorn[i] * diag[None,:]\n",
    "        if num_eigs[numeigs] != 0:\n",
    "            null_vector, precond_vectors = build_preconditioners( num_eigs[ numeigs ], result, ansatz = False )\n",
    "            # vector = null_vector\n",
    "            # vector = vector/diag\n",
    "            # vector = vector/np.linalg.norm( vector )\n",
    "            # vector = vector.reshape( ( len( vector ), 1) )\n",
    "            # result = result + np.dot( vector, vector.T )\n",
    "            y_ = np.array( precond_vectors ).T # Matrix of size n by k\n",
    "            # Compute eigenvalues\n",
    "            Ay = np.dot( result, y_ )\n",
    "            eigenvalues = np.sum( y_ * Ay, axis = 0 )\n",
    "            # Compute P_matrix = id + y*diag(values)*y.T\n",
    "            values = ( 1/np.sqrt(eigenvalues) - 1 )    # Vector of size k\n",
    "            z = y_ * values[None,:]\n",
    "            B = np.dot( Ay, z.T )\n",
    "            C_ = z @ np.dot( y_.T, Ay ) @ z.T\n",
    "            result = result + B + B.T + C_\n",
    "        preconditioned_Hessians[ num_eigs[ numeigs ] ].append( result )\n",
    "    # end for\n",
    "# end for"
   ]
  },
  {
   "cell_type": "code",
   "execution_count": null,
   "metadata": {},
   "outputs": [],
   "source": [
    "eigs = {}\n",
    "for numeigs in  range(len(num_eigs)):\n",
    "    eigs[ num_eigs[ numeigs ] ] = []\n",
    "    for i in range(len(epsilons)):\n",
    "        eps = epsilons[i]\n",
    "        print(\"Spectral statistics of Hessian for epsilon = \"+str(eps))\n",
    "        ev = spectral_decomposition( preconditioned_Hessians[ num_eigs[ numeigs ] ][i])\n",
    "        eigs[ num_eigs[ numeigs ] ].append( ev[0] )\n",
    "        print(\"\")\n",
    "    # end for\n",
    "# end for"
   ]
  },
  {
   "cell_type": "code",
   "execution_count": null,
   "metadata": {},
   "outputs": [],
   "source": [
    "plt.rcParams.update( { 'font.size': 100 } )\n",
    "fig,ax = plt.subplots( figsize = ( 120, 130 ), nrows = len(num_eigs), ncols = len(epsilons), sharey = True, sharex = False )\n",
    "plt.subplots_adjust( wspace = 0, hspace = 0.3 )\n",
    "p = np.log10( 0.5 )   \n",
    "for numeigs in range(len(num_eigs)):\n",
    "    for i in range(len(epsilons)):\n",
    "        ax[ numeigs ][i].hist( eigs[ num_eigs[ numeigs ] ][i], 50, rwidth = 0.9 )\n",
    "        ax[ numeigs ][i].set_title( \" k = \"+str(num_eigs[ numeigs ])+\", $\\epsilon$ = \" +str(epsilons[i])+ \"\" )\n",
    "        ax[ numeigs ][i].set_ylim( ymin = 10**p )\n",
    "        ax[ numeigs ][i].set_yscale( \"log\" )  \n",
    "    # end for\n",
    "# end for\n",
    "ax[ len(num_eigs) - 1 ][ len(epsilons) - 1 ].set_xticks([ 0, 1, 2 ])   \n",
    "plt.savefig(\"../Images/Spectralplot_images/PreconditionedHistograms_Sinkhorn.pdf\", format = 'pdf', bbox_inches = \"tight\" )\n",
    "plt.show()"
   ]
  },
  {
   "attachments": {},
   "cell_type": "markdown",
   "metadata": {},
   "source": [
    "## Damped Newton without preconditioning\n",
    "\n",
    "The Hessian of the dual formulation of the entropy regularized OT is given by \n",
    "$$\n",
    "\\nabla^{2}Q_{\\varepsilon}(f,g)=\\frac{-1}{\\varepsilon}\n",
    "\\begin{pmatrix}\n",
    "\\Delta(\\alpha) && \\pi_{\\varepsilon}\\\\\n",
    "\\pi^{T}_{\\varepsilon} && \\Delta(\\beta) \n",
    "\\end{pmatrix}\n",
    "\\ , \n",
    "$$ \n",
    "where $\\pi\\mathbb{1}_{m} = \\alpha,\\ \\pi^{T}\\mathbb{1}_{n}=\\beta,\\ $ and $\\Delta = diag: \\mathbb{R}^{n} \\rightarrow M_{n}(\\mathbb{R})$ is the linear operator mapping a vector  to a diagonal matrix  containing  this vector.\n",
    "\n",
    "\n",
    "This implies \n",
    "$$\n",
    "\\begin{pmatrix}\n",
    "\\Delta(\\alpha) && \\pi_{\\varepsilon}\\\\\n",
    "\\pi^{T}_{\\varepsilon} && \\Delta(\\beta) \n",
    "\\end{pmatrix}\n",
    "\\begin{pmatrix}\n",
    "\\mathbb{1}_{n}\\\\\n",
    "\\mathbb{1}_{m}\n",
    "\\end{pmatrix} = 0\\ ,\n",
    "$$\n",
    "that is,\n",
    "$$\n",
    "\\begin{pmatrix}\n",
    "\\mathbb{1}_{n}\\\\\n",
    "\\mathbb{1}_{m}\n",
    "\\end{pmatrix}\\in \\ker(\\nabla^{2}Q_{\\alpha, \\beta,\\varepsilon}(f,g))\\ .\n",
    "$$\n",
    "Hence, $\\nabla^{2}Q_{\\alpha, \\beta,\\varepsilon}(f,g)$ is singular. Therefore, on regularization we have the following Hessian\n",
    "$\n",
    "H_{reg} := \\nabla^{2}Q_{\\alpha, \\beta,\\varepsilon}(f,g)+\\lambda cc^{T}\\ ,\n",
    "$ \n",
    "where $c= \\begin{pmatrix}\\frac{\\mathbb{1}}{\\sqrt{n+m}}\\\\-\\frac{\\mathbb{1}}{\\sqrt{n+m}}\\end{pmatrix}\\in M_{(n+m),1}(\\mathbb{R})$.\n",
    "\n",
    "Now, at the $k^{th}$ iteration solve\n",
    "$\\nabla^{2}Q_{\\alpha, \\beta,\\varepsilon}(f,g)p_{k} = \\nabla Q_{\\alpha, \\beta,\\varepsilon}(f,g)$ to obtain the optimizing direction vector $p_{k}$ and then perform the Armijo condition to obtain the update step $\\alpha_{k}$ such that we have the update\n",
    "$$\n",
    "(f,g) \\leftarrow (f,g) + \\alpha_{k} p_{k}\\ .\n",
    "$$\n",
    "\n"
   ]
  },
  {
   "cell_type": "code",
   "execution_count": null,
   "metadata": {},
   "outputs": [],
   "source": [
    "# Damped Newton\n",
    "print(\"Damped Newton... \")\n",
    "print( \"Doing for (\",N[0], N[1],\").\" )\n",
    "rho = 0.95\n",
    "c = 0.05\n",
    "dampedNewtonP = []\n",
    "results_dampedNewton  = []\n",
    "times_dampedNewton    = []\n",
    "Hessians_dampedNewton = []\n",
    "# a and b\n",
    "a = normalize( np.ones( N[0] ) )\n",
    "b = normalize( np.ones( N[1] ) )\n",
    "epsilons = [ 0.1 , 0.05 , 0.03 ]\n",
    "#Cost matrix\n",
    "C = distmat( x, y )\n",
    "for eps in epsilons:\n",
    "    print( \"For epsilon = \"+str(eps)+\":\" )    \n",
    "    #Kernel\n",
    "    K = np.exp( - C/eps )\n",
    "    f, g = 0 * a, 0 * b\n",
    "    print( \" |- Iterating\")  \n",
    "    start = time.time()\n",
    "    Optimizer = computational_OT.damped_Newton( K,\n",
    "                                                a,\n",
    "                                                b,\n",
    "                                                f,\n",
    "                                                g,\n",
    "                                                eps,\n",
    "                                                rho,\n",
    "                                                c )\n",
    "    out = Optimizer._update(    maxiter = 50,\n",
    "                                debug = False )\n",
    "    end = time.time()\n",
    "    if out != -1:\n",
    "        results_dampedNewton.append( out )\n",
    "        times_dampedNewton.append( end - start )\n",
    "        print( \" |- Computing P\" )\n",
    "        print( \"\" )\n",
    "        u_opt = np.exp( out['potential_f']/eps )\n",
    "        K = np.exp( - C/eps )\n",
    "        v_opt =  np.exp( out['potential_g']/eps )\n",
    "        P_opt = GetP( u_opt, K, v_opt )\n",
    "        dampedNewtonP.append( P_opt )\n",
    "        print( \" |- Recording (unstabilized) Hessian \\n\" )\n",
    "        mat  = - eps * Optimizer.Hessian\n",
    "        diag = 1/np.sqrt( np.concatenate( ( a, b ), axis = None ) )\n",
    "        mat = diag[:,None] * mat * diag[None,:]\n",
    "        Hessians_dampedNewton.append( mat )\n",
    "    else:\n",
    "        epsilons.remove( eps )\n",
    "# end for"
   ]
  },
  {
   "cell_type": "code",
   "execution_count": null,
   "metadata": {},
   "outputs": [],
   "source": [
    "plt.rcParams.update( { 'font.size': 22 } )\n",
    "plt.figure( figsize = ( 12, 5 ) )\n",
    "plt.title(\"$$\")\n",
    "plt.title(\"$||P1 -a||_1+||P^T 1 -b||_1$\")\n",
    "for i in range(len(results_dampedNewton)):\n",
    "  error = np.asarray(results_dampedNewton[i]['error_a']) + np.asarray(results_dampedNewton[i]['error_b'])\n",
    "  plt.plot( error, label = 'Damped Newton for $\\epsilon = $'+ str(epsilons[i]), linewidth = 2)\n",
    "#  end for\n",
    "plt.xlabel(\"Number of iterations\")\n",
    "plt.ylabel(\"Error in log-scale\")\n",
    "plt.legend( loc = 'upper right' )\n",
    "plt.yscale( 'log')\n",
    "plt.tight_layout()\n",
    "plt.show()"
   ]
  },
  {
   "attachments": {},
   "cell_type": "markdown",
   "metadata": {},
   "source": [
    "#### Spectral plots "
   ]
  },
  {
   "cell_type": "code",
   "execution_count": null,
   "metadata": {},
   "outputs": [],
   "source": [
    "eigs = []\n",
    "eigvecs = []\n",
    "for i in range(len(epsilons)):\n",
    "    eps = epsilons[i]\n",
    "    print( \"Spectral statistics of Hessian for epsilon =\" +str(eps) )\n",
    "    diag   = 1/np.sqrt(np.diag( Hessians_dampedNewton[i] ).flatten())\n",
    "    result = diag[:,None] * Hessians_dampedNewton[i] * diag[None,:]\n",
    "    ev = spectral_decomposition( result )\n",
    "    eigs.append( ev[0] )\n",
    "    eigvecs.append( ev[1] )\n",
    "    print(\"\")\n",
    "# end for"
   ]
  },
  {
   "cell_type": "code",
   "execution_count": null,
   "metadata": {},
   "outputs": [],
   "source": [
    "fig, ax = plt.subplots( figsize = ( 36, 6 ), nrows = 1, ncols = len(epsilons), sharey = False )\n",
    "plt.title(\"Histogram of eigenvalues.\")\n",
    "for i in range(len(epsilons)):\n",
    "    ax[i].hist( eigs[i], 50)\n",
    "    ax[i].set_title( \" $\\epsilon$: \"+str(epsilons[i]))\n",
    "    ax[i].set_xlabel(\"Eigenvalues\")\n",
    "    # ax[i].set_ylim(ymin = 0)\n",
    "    # ax[i].set_ylim(bottom = 1e-1)\n",
    "    ax[i].set_yscale( \"log\" )       \n",
    "# end for\n",
    "plt.subplots_adjust( wspace = 0, hspace = 0.4 )\n",
    "plt.show()"
   ]
  },
  {
   "attachments": {},
   "cell_type": "markdown",
   "metadata": {},
   "source": [
    "#### Spectral plots with preconditioning"
   ]
  },
  {
   "cell_type": "code",
   "execution_count": null,
   "metadata": {},
   "outputs": [],
   "source": [
    "num_eigs = [ 0, 50, 100, 200, 400, 800, 1098 ]\n",
    "preconditioned_Hessians = {}\n",
    "for numeigs  in  range(len(num_eigs)):\n",
    "    preconditioned_Hessians[ num_eigs[ numeigs ] ] = []\n",
    "    for i in  range(len(epsilons)):\n",
    "        diag   = 1/np.sqrt(np.diag( Hessians_logsinkhorn[i] ).flatten())\n",
    "        result = diag[:,None] * Hessians_logsinkhorn[i] * diag[None,:]\n",
    "        if num_eigs[numeigs] != 0:\n",
    "            null_vector, precond_vectors = build_preconditioners( num_eigs[ numeigs ], result, ansatz = False )\n",
    "            # vector = null_vector\n",
    "            # vector = vector/diag\n",
    "            # vector = vector/np.linalg.norm( vector )\n",
    "            # vector = vector.reshape( ( len( vector ), 1) )\n",
    "            # result = result + np.dot( vector, vector.T )\n",
    "            y_ = np.array( precond_vectors ).T # Matrix of size n by k\n",
    "            # Compute eigenvalues\n",
    "            Ay = np.dot( result, y_ )\n",
    "            eigenvalues = np.sum( y_ * Ay, axis = 0 )\n",
    "            # Compute P_matrix = id + y*diag(values)*y.T\n",
    "            values = ( 1/np.sqrt(eigenvalues) - 1 )    # Vector of size k\n",
    "            z = y_ * values[None,:]\n",
    "            B = np.dot( Ay, z.T )\n",
    "            C_ = z @ np.dot( y_.T, Ay ) @ z.T\n",
    "            result = result + B + B.T + C_\n",
    "        preconditioned_Hessians[ num_eigs[ numeigs ] ].append( result ),\n",
    "    # end for\n",
    "# end for"
   ]
  },
  {
   "cell_type": "code",
   "execution_count": null,
   "metadata": {},
   "outputs": [],
   "source": [
    "eigs = {}\n",
    "for numeigs in  range(len(num_eigs)):\n",
    "    eigs[ num_eigs[ numeigs ] ] = []\n",
    "    for i in range(len(epsilons)):\n",
    "        eps = epsilons[i]\n",
    "        print( \"Spectral statistics of Hessian for epsilon = \"+str(eps) )\n",
    "        ev = spectral_decomposition( preconditioned_Hessians[ num_eigs[ numeigs ] ][i ])\n",
    "        eigs[ num_eigs[ numeigs ] ].append( ev[0] )\n",
    "        print(\"\")\n",
    "    # end for\n",
    "# end for"
   ]
  },
  {
   "cell_type": "code",
   "execution_count": null,
   "metadata": {},
   "outputs": [],
   "source": [
    "plt.rcParams.update( { 'font.size' : 90 } )\n",
    "fig, ax = plt.subplots( figsize = ( 120, 130 ), nrows = len(num_eigs), ncols = len(epsilons), sharey = True, sharex = False )\n",
    "plt.subplots_adjust( wspace = 0, hspace = 0.3 )\n",
    "p = np.log10( 0.5 )   \n",
    "for numeigs in range(len(num_eigs)):\n",
    "    for i in range(len(epsilons)):\n",
    "        ax[ numeigs ][i].hist( eigs[ num_eigs[ numeigs ] ][i], 50, rwidth = 0.9 )\n",
    "        ax[ numeigs ][i].set_title( \" k = \"+str(num_eigs[ numeigs ])+\", $\\epsilon$ = \" +str(epsilons[i])+ \"\" )\n",
    "        ax[ numeigs ][i].set_ylim( ymin = 10**p )\n",
    "        ax[ numeigs ][i].set_yscale( \"log\" )    \n",
    "    # end for\n",
    "# end for\n",
    "ax[ len(num_eigs) - 1 ][ len(epsilons) - 1 ].set_xticks([ 0, 1, 2 ])  \n",
    "plt.subplots_adjust( wspace = 0, hspace = 0.4 )\n",
    "plt.savefig( \"../Images/Spectralplot_images/PreconditionedHistograms_DampedNewtonwithoutprecond.pdf\", format = 'pdf', bbox_inches = \"tight\" )\n",
    "plt.show()"
   ]
  },
  {
   "cell_type": "markdown",
   "metadata": {},
   "source": [
    "## Semi-dual damped Newton without preconditioning"
   ]
  },
  {
   "cell_type": "code",
   "execution_count": null,
   "metadata": {},
   "outputs": [],
   "source": [
    "# Semi dual damped Newton\n",
    "epsilons = [ 1.0, 0.5, 0.1, 0.05, 0.03, 0.02 ]\n",
    "print(  \" Semi dual damped Newton... \"   )\n",
    "print( \" Doing for (\",N[0], N[1],\"). \")\n",
    "rho = 0.8\n",
    "c = 0.1\n",
    "Semi_dual_dampedNewtonP = []    \n",
    "results_semi_dual_dampedNewton = []\n",
    "times_semi_dual_dampedNewton = []\n",
    "Hessians_semi_dual_dampedNewton = []\n",
    "#Cost matrix\n",
    "C = distmat( x, y )\n",
    "# a and b\n",
    "a = normalize( np.ones( N[0] ) )\n",
    "b = normalize( np.ones( N[1] ) )\n",
    "for eps in epsilons:\n",
    "    K = np.exp( - C/eps )\n",
    "    print( \" For epsilon = \" + str(eps) + \":\" )   \n",
    "    f = a\n",
    "    print( \" |-  Iterating\" )  \n",
    "    start = time.time() \n",
    "    Optimizer = computational_OT.semi_dual_dampedNewton_np( C,\n",
    "                                                            a,\n",
    "                                                            b,\n",
    "                                                            f,\n",
    "                                                            eps,\n",
    "                                                            rho,\n",
    "                                                            c,\n",
    "                                                            exp_log = \"True\" ) \n",
    "    out = Optimizer._update( max_iterations = 50 )\n",
    "    end = time.time()\n",
    "    if out != -1:\n",
    "        results_semi_dual_dampedNewton.append( out )\n",
    "        times_semi_dual_dampedNewton.append( end - start )\n",
    "        print( \" |- Computing P \" )\n",
    "        print( \"\" )\n",
    "        u_opt = np.exp( out['potential_f']/eps )\n",
    "        K = np.exp( - C/eps )\n",
    "        v_opt =  np.exp( out['potential_g']/eps )\n",
    "        P_opt = GetP( u_opt, K, v_opt )\n",
    "        Semi_dual_dampedNewtonP.append( P_opt )\n",
    "        print( \" |- Recording (unstabilized) Hessian \\n \" )\n",
    "        mat  = - eps * Optimizer.Hessian\n",
    "        diag = 1/np.sqrt( a )\n",
    "        mat = diag[:, None] * mat * diag[None,:]\n",
    "        Hessians_semi_dual_dampedNewton.append( mat )\n",
    "    else:\n",
    "        epsilons.remove(eps)\n",
    "# end for"
   ]
  },
  {
   "cell_type": "code",
   "execution_count": null,
   "metadata": {},
   "outputs": [],
   "source": [
    "plt.rcParams.update( { 'font.size': 10 } )\n",
    "plt.figure( figsize = ( 12, 5 ) )\n",
    "plt.title(\"$$\")\n",
    "plt.title(\"$||P1 -a||_1+||P1 -b||_1$\")\n",
    "for i in range(len(results_semi_dual_dampedNewton)):\n",
    "  error = np.asarray(results_semi_dual_dampedNewton[i]['error'])\n",
    "  plt.plot( error, label = 'Semi-dual damped Newton for $\\epsilon = $'+ str(epsilons[i]), linewidth = 2)\n",
    "# end for\n",
    "plt.xlabel(\"Number of iterations\")\n",
    "plt.ylabel(\"Error in log-scale\")\n",
    "plt.legend( loc = 'upper right' )\n",
    "plt.yscale( 'log')\n",
    "plt.tight_layout()\n",
    "plt.show()"
   ]
  },
  {
   "cell_type": "markdown",
   "metadata": {},
   "source": [
    "#### Spectral plots "
   ]
  },
  {
   "cell_type": "code",
   "execution_count": null,
   "metadata": {},
   "outputs": [],
   "source": [
    "eigs = []\n",
    "eigvecs = []\n",
    "for i in range(len(epsilons)):\n",
    "    eps = epsilons[i]\n",
    "    print( \"Spectral statistics of Hessian for epsilon = \" +str(eps) )\n",
    "    diag   = 1/np.sqrt(np.diag( Hessians_semi_dual_dampedNewton[i] ).flatten())\n",
    "    result = diag[:,None] * Hessians_semi_dual_dampedNewton[i] * diag[None,:]\n",
    "    ev = spectral_decomposition( result )\n",
    "    eigs.append( ev[0] )\n",
    "    eigvecs.append( ev[1] )\n",
    "    print(\"\")\n",
    "# end for"
   ]
  },
  {
   "cell_type": "code",
   "execution_count": null,
   "metadata": {},
   "outputs": [],
   "source": [
    "fig, ax = plt.subplots( figsize = ( 5, 10 ),  nrows = len(epsilons), ncols = 1, sharey = False )\n",
    "plt.title(\"Histogram of eigenvalues.\")\n",
    "for i in range(len(epsilons)):\n",
    "    ax[i].hist( eigs[i], 50)\n",
    "    ax[i].set_title( \" $\\epsilon$: \"+str(epsilons[i]))\n",
    "    ax[i].set_xlabel(\"Eigenvalues\")\n",
    "    # ax[i].set_ylim(ymin = 0)\n",
    "    # ax[i].set_ylim(bottom = 1e-1)\n",
    "    ax[i].set_yscale( \"log\" )       \n",
    "# end for\n",
    "plt.subplots_adjust( wspace = 0, hspace = 1 )\n",
    "plt.show()"
   ]
  },
  {
   "cell_type": "markdown",
   "metadata": {},
   "source": [
    "#### Constructing the Hessian in the semi-dual setup using the optimal potentials obtained using log-domain Sinkhorn algorithm"
   ]
  },
  {
   "cell_type": "code",
   "execution_count": null,
   "metadata": {},
   "outputs": [],
   "source": [
    "Hessians_logsinkhorn = []\n",
    "epsilons = [ 0.5, 0.1, 0.05, 0.01, 0.005, 0.001 ]\n",
    "for i in range(len(epsilons)):\n",
    "    g = epsilons[i] * np.log( np.sum( a[:,None] * np.exp( -( C - results_logSinkhorn[i]['potential_f'][:,None])/epsilons[i] ), axis = 0 ) )\n",
    "    M = a[:,None] * np.exp( (results_logSinkhorn[i]['potential_f'][:,None] + results_logSinkhorn[i]['potential_g'][None,:] - C )/epsilons[i]) * np.sqrt( b )[None,:] \n",
    "    Rowsum_M = np.sum( M * np.sqrt( b )[ None,:], axis = 1  )\n",
    "    result = np.diag( Rowsum_M ) - np.dot( M, M.T ) \n",
    "    Hessians_logsinkhorn.append( result ) \n",
    "# end for"
   ]
  },
  {
   "cell_type": "code",
   "execution_count": null,
   "metadata": {},
   "outputs": [],
   "source": [
    "def build_preconditioners( num_eigs, modified_Hessian, ansatz = True ):\n",
    "    # Diagonalize\n",
    "    eigenvalues, eigenvectors = np.linalg.eigh( modified_Hessian )\n",
    "    sorting_indices = np.argsort( eigenvalues  )\n",
    "    eigenvalues  = eigenvalues[ sorting_indices ]\n",
    "    eigenvectors = eigenvectors[ : , sorting_indices ]\n",
    "    # Form null vector\n",
    "    if not ansatz:\n",
    "        null_vector = eigenvectors[:, 0]\n",
    "    else:\n",
    "        null_vector = np.ones( N[0] ) \n",
    "        norm = np.sqrt( N[0] )\n",
    "        null_vector = null_vector/norm\n",
    "    # Form other vectors\n",
    "    indices = []\n",
    "    for i in range( num_eigs ):\n",
    "        indices.append( i+1 )\n",
    "    # end for\n",
    "    precond_vectors = []\n",
    "    for index in indices:\n",
    "        precond_vectors.append( eigenvectors[ :, index ] )\n",
    "    # end for\n",
    "    return null_vector, precond_vectors"
   ]
  },
  {
   "cell_type": "markdown",
   "metadata": {},
   "source": [
    "#### Spectral plots with preconditioning"
   ]
  },
  {
   "cell_type": "code",
   "execution_count": null,
   "metadata": {},
   "outputs": [],
   "source": [
    "num_eigs = [ 0, 10, 20, 30, 40, 50 ]\n",
    "preconditioned_Hessians = {}\n",
    "for numeigs  in  range(len(num_eigs)):\n",
    "    preconditioned_Hessians[ num_eigs[ numeigs ] ] = []\n",
    "    for i in  range(len(epsilons)):\n",
    "        diag   = 1/np.sqrt(np.diag( Hessians_semi_dual_dampedNewton[i] ).flatten())\n",
    "        result = diag[:,None] * Hessians_semi_dual_dampedNewton[i] * diag[None,:]\n",
    "        if num_eigs[numeigs] != 0:\n",
    "            null_vector, precond_vectors = build_preconditioners( num_eigs[ numeigs ], result, ansatz = False )\n",
    "            # vector = null_vector\n",
    "            # vector = vector/diag\n",
    "            # vector = vector/np.linalg.norm( vector )\n",
    "            # vector = vector.reshape( ( len( vector ), 1) )\n",
    "            # result = result + np.dot( vector, vector.T )\n",
    "            y_ = np.array( precond_vectors ).T # Matrix of size n by k\n",
    "            # Compute eigenvalues\n",
    "            Ay = np.dot( result, y_ )\n",
    "            eigenvalues = np.sum( y_ * Ay, axis = 0 )\n",
    "            # Compute P_matrix = id + y*diag(values)*y.T\n",
    "            values = ( 1/np.sqrt(eigenvalues) - 1 )    # Vector of size k\n",
    "            z = y_ * values[None,:]\n",
    "            B = np.dot( Ay, z.T )\n",
    "            C_ = z @ np.dot( y_.T, Ay ) @ z.T\n",
    "            result = result + B + B.T + C_\n",
    "        preconditioned_Hessians[ num_eigs[ numeigs ] ].append( result )\n",
    "    # end for\n",
    "# end for"
   ]
  },
  {
   "cell_type": "code",
   "execution_count": null,
   "metadata": {},
   "outputs": [],
   "source": [
    "eigs = {}\n",
    "for numeigs in  range(len(num_eigs)):\n",
    "    eigs[ num_eigs[ numeigs ] ] = []\n",
    "    for i in range(len(epsilons)):\n",
    "        eps = epsilons[i]\n",
    "        print( \"Spectral statistics of Hessian for epsilon = \"+str(eps) )\n",
    "        ev = spectral_decomposition( preconditioned_Hessians[ num_eigs[ numeigs ] ][i ])\n",
    "        eigs[ num_eigs[ numeigs ] ].append( ev[0] )\n",
    "        print(\"\")\n",
    "    # end for\n",
    "# end for"
   ]
  },
  {
   "cell_type": "code",
   "execution_count": null,
   "metadata": {},
   "outputs": [],
   "source": [
    "plt.rcParams.update( { 'font.size' : 90 } )\n",
    "fig, ax = plt.subplots( figsize = ( 120, 130 ), nrows = len(num_eigs), ncols = len(epsilons), sharey = True, sharex = False )\n",
    "plt.subplots_adjust( wspace = 0, hspace = 0.3 )\n",
    "p = np.log10( 0.5 )   \n",
    "for numeigs in range(len(num_eigs)):\n",
    "    for i in range(len(epsilons)):\n",
    "        ax[ numeigs ][i].hist( eigs[ num_eigs[ numeigs ] ][i], 50, rwidth = 0.9 )\n",
    "        ax[ numeigs ][i].set_title( \" k = \"+str(num_eigs[ numeigs ])+\", $\\epsilon$ = \" +str(epsilons[i])+ \"\" )\n",
    "        ax[ numeigs ][i].set_ylim( ymin = 10**p )\n",
    "        ax[ numeigs ][i].set_yscale( \"log\" )    \n",
    "    # end for\n",
    "# end for\n",
    "ax[ len(num_eigs) - 1 ][ len(epsilons) - 1 ].set_xticks([ 0, 1 ])  \n",
    "plt.subplots_adjust( wspace = 0.1, hspace = 0.2 )\n",
    "plt.savefig( \"../Images/Spectralplot_images/PreconditionedHistograms_SemiDual_DampedNewtonwithoutprecond.pdf\", format = 'pdf', bbox_inches = \"tight\" )\n",
    "plt.show()"
   ]
  }
 ],
 "metadata": {
  "kernelspec": {
   "display_name": ".venv_computational-OT",
   "language": "python",
   "name": "python3"
  },
  "language_info": {
   "codemirror_mode": {
    "name": "ipython",
    "version": 3
   },
   "file_extension": ".py",
   "mimetype": "text/x-python",
   "name": "python",
   "nbconvert_exporter": "python",
   "pygments_lexer": "ipython3",
   "version": "3.12.3"
  },
  "orig_nbformat": 4
 },
 "nbformat": 4,
 "nbformat_minor": 2
}
