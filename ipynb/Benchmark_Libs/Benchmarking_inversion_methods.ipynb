{
 "cells": [
  {
   "cell_type": "code",
   "execution_count": null,
   "metadata": {},
   "outputs": [],
   "source": [
    "from __future__ import division\n",
    "import os\n",
    "import numpy as np\n",
    "import time\n",
    "import matplotlib.pyplot as plt\n",
    "import scipy\n",
    "import warnings\n",
    "warnings.filterwarnings('ignore')\n",
    "np.random.seed(1234)\n",
    "%matplotlib inline\n",
    "%load_ext autoreload\n",
    "%autoreload "
   ]
  },
  {
   "cell_type": "code",
   "execution_count": null,
   "metadata": {},
   "outputs": [],
   "source": [
    "\"\"\"To compute distance matrix\"\"\"\n",
    "def distmat( x, y ):\n",
    "    return np.sum( x**2, 0 )[:,None] + np.sum( y**2, 0 )[None,:] - 2 * x.transpose().dot( y )\n",
    "\n",
    "\"\"\"To Normalise a vector\"\"\"\n",
    "normalize = lambda a: a/np.sum( a )\n",
    "\n",
    "\"\"\"To Compute P\"\"\"\n",
    "def GetP( u, K, v ):\n",
    "    return u[:,None] * K * v[None,:]\n",
    "\n",
    "def plotp( x, col, plt, scale = 200, edgecolors = \"k\"):\n",
    "  return plt.scatter( x[0,:], x[1,:], s = scale, edgecolors = edgecolors,  c = col, cmap = 'plasma', linewidths = 2 )"
   ]
  },
  {
   "cell_type": "code",
   "execution_count": null,
   "metadata": {},
   "outputs": [],
   "source": [
    "relative_path_to_new_folder = \"../Images\"\n",
    "os.makedirs(relative_path_to_new_folder, exist_ok = True)\n",
    "if not os.path.isdir('../Images/Benchmarking_inversion_methods_images'):\n",
    "    os.makedirs('../Images/Benchmarking_inversion_methods_images')"
   ]
  },
  {
   "cell_type": "code",
   "execution_count": null,
   "metadata": {},
   "outputs": [],
   "source": [
    "import computational_OT"
   ]
  },
  {
   "cell_type": "markdown",
   "metadata": {},
   "source": [
    "## Damped Newton without preconditioning"
   ]
  },
  {
   "cell_type": "code",
   "execution_count": null,
   "metadata": {},
   "outputs": [],
   "source": [
    "def dampednewton( epsilons, N, x, y, rho = 0.95, c = 0.1, iterations = 50 ):\n",
    "    print(\"Damped Newton... \")\n",
    "    print( \"Doing for (\",N[0], N[1],\").\" )\n",
    "    dampedNewtonP=[]\n",
    "    results_dampedNewton  = []\n",
    "    times_dampedNewton    = []\n",
    "    Hessians_dampedNewton = []\n",
    "    # Cost matrix\n",
    "    Cost = distmat( x, y )\n",
    "    # a and b\n",
    "    a = normalize( np.ones( N[0] ) )\n",
    "    b = normalize( np.ones( N[1] ) )\n",
    "    for eps in epsilons:\n",
    "        print(\"For epsilon = \"+str(eps)+\":\")     \n",
    "        # Kernel\n",
    "        K = np.exp( - Cost/eps )\n",
    "        f, g = a, b\n",
    "        print( \" |- Iterating\")  \n",
    "        start = time.time()\n",
    "        Optimizer = computational_OT.damped_Newton( K,\n",
    "                                                    a,\n",
    "                                                    b,\n",
    "                                                    f,\n",
    "                                                    g,\n",
    "                                                    eps,\n",
    "                                                    rho,\n",
    "                                                    c )\n",
    "        out = Optimizer._update(    max_iterations = iterations,\n",
    "                                    debug = False )\n",
    "        end = time.time()\n",
    "        if ( out != np.zeros(6) ).all():\n",
    "            results_dampedNewton.append( out )\n",
    "            times_dampedNewton.append( end - start )\n",
    "            print( \" |- Computing P\" )\n",
    "            print( \"\" )\n",
    "            u_opt = np.exp( out['potential_f']/eps )\n",
    "            K = np.exp( - Cost/eps )\n",
    "            v_opt =  np.exp( out['potential_g']/eps )\n",
    "            P_opt = GetP( u_opt, K, v_opt )\n",
    "            dampedNewtonP.append( P_opt )\n",
    "            print( \" |- Recording (unstabilized) Hessian \\n\" )\n",
    "            mat  = - eps * Optimizer.Hessian\n",
    "            diag = 1/np.sqrt( np.concatenate( ( a, b ), axis = None ) )\n",
    "            mat = diag[:,None] * mat * diag[None,:]\n",
    "            Hessians_dampedNewton.append( mat )\n",
    "        else:\n",
    "            epsilons.remove( eps )\n",
    "    # end for\n",
    "    return {\n",
    "        'results_list': results_dampedNewton,\n",
    "        'time_stamps' : times_dampedNewton,\n",
    "        'Ps'          : dampedNewtonP,\n",
    "        'Hessians'    : Hessians_dampedNewton \n",
    "    }"
   ]
  },
  {
   "cell_type": "markdown",
   "metadata": {},
   "source": [
    "## Function performing inversion using Conjugate gradient or GMRES and recording the mean time taken over a number of iterations of inversion."
   ]
  },
  {
   "cell_type": "code",
   "execution_count": null,
   "metadata": {},
   "outputs": [],
   "source": [
    "def iterative_inversions( epsilons, N, x, y, null_vector, precond_vectors, Num_inv = 100, inv_method = 'cg' ):\n",
    "    print( \"Doing for (\",N[0], N[1],\").\" )\n",
    "    # Cost matrix\n",
    "    Cost = distmat( x, y )\n",
    "    # a and b\n",
    "    a = normalize( np.ones(N[0]) )\n",
    "    b = normalize( np.ones(N[1]) )\n",
    "    f, g = a, b\n",
    "    f_g = np.concatenate( ( f, g ), axis = None )\n",
    "    timings = []\n",
    "    for eps in epsilons:\n",
    "        print( \"For epsilon = \"+str(eps)+\" .\" )    \n",
    "        # Kernel\n",
    "        K = np.exp( - Cost/eps )\n",
    "        # Compute gradient\n",
    "        u = np.exp( f_g[:a.shape[0]]/eps )\n",
    "        v = np.exp( f_g[a.shape[0]:]/eps )\n",
    "        grad_f = a - ( a * u * np.dot( K, v  * b ) )\n",
    "        grad_g = b - ( ( b *  v ) * np.dot( K.T, u * a ) )\n",
    "        gradient = np.concatenate( ( grad_f, grad_g ), axis = None )\n",
    "        # Compute Hessian\n",
    "        r1 = ( a * u * np.dot( K,  v  * b ) )\n",
    "        r2 = ( ( b * v ) * np.dot( K.T, u * a ) )\n",
    "        # r1 = u * np.dot( self.K,v )\n",
    "        # r2 = v * np.dot( self.K.T, u )\n",
    "        # P  = u*self.K*(v.T) # WRONG AGAIN: DANGEROUS CODE!!\n",
    "        u = u.reshape( u.shape[0], )\n",
    "        v = v.reshape( v.shape[0], )\n",
    "        P = a[:,None] * u[:,None] * K * v[None,:] * b[None,:]\n",
    "\n",
    "        A = np.diag( np.array( r1.reshape( r1.shape[0], ) ) )\n",
    "        B = P\n",
    "        C = P.T\n",
    "        D = np.diag( np.array( r2.reshape( r2.shape[0], ) ) )\n",
    "        result = np.vstack( ( np.hstack( ( A, B ) ), np.hstack( ( C ,D ) ) ) )\n",
    "        # Construct modified Hessian\n",
    "        diag = 1/np.sqrt( np.diag(result).flatten() )\n",
    "        modified_Hessian = diag[:,None] * result * diag[None,:]        \n",
    "        # Dummy variable to work on\n",
    "        matrix = modified_Hessian\n",
    "        # Dummy variable to work on\n",
    "        matrix = modified_Hessian\n",
    "        vector = null_vector# Shape: (n,)\n",
    "        vector = vector/diag\n",
    "        vector = vector/np.linalg.norm( vector )\n",
    "        vector_E = vector\n",
    "        # Transformations (Initial on gradient and final on result)\n",
    "        gradient = diag[:,None] * gradient[:,None]\n",
    "        # Conditioning with other vectors\n",
    "        #  Naming conventions:\n",
    "        #  y = Preconditioning vectors as a numpy matrix n by k\n",
    "        #  matrix = our matrix A to precondition\n",
    "        #  We only form the data y and z such that\n",
    "        #  P = id + z*y.T\n",
    "        y_ = np.array( precond_vectors ).T # Matrix of size n by k\n",
    "        # Compute eigenvalues\n",
    "        Ay = np.dot( matrix, y_ )\n",
    "        eigenvalues = np.sum( y_ * Ay, axis = 0 )\n",
    "        # Compute data for P = id + y*diag(values)*y.T\n",
    "        values = ( 1/np.sqrt(eigenvalues) - 1 )    # Vector of size k\n",
    "        z = y_ * values[None,:]\n",
    "\n",
    "        # Changing the A matrix to PAP\n",
    "\n",
    "        # Function mapping v to Pv\n",
    "        # P = Id + z*y.T\n",
    "        def _apply_P( vector):\n",
    "          return vector + z @ ( y_.T @ vector )\n",
    "        # Function mapping v to P(A+E)Pv\n",
    "        # A is matrix\n",
    "        # E is vector_E*vector_E.T\n",
    "        def _preconditioned_map( vector ):\n",
    "          vector   = _apply_P( vector )\n",
    "          vector   = np.dot( matrix, vector )  + vector_E * np.dot( vector_E, vector )\n",
    "          vector   = _apply_P( vector ) \n",
    "          return vector\n",
    "        # Apply P\n",
    "        # At beginning on gradient\n",
    "        # At the end \n",
    "        gradient = _apply_P( gradient )\n",
    "        #\n",
    "        # Solve either iteratively using CG or exactly\n",
    "       \n",
    "        m  = matrix\n",
    "        A = scipy.sparse.linalg.LinearOperator( ( m.shape[0], m.shape[1] ), matvec = _preconditioned_map ) \n",
    "        # Inversion iterations to record the average time taken to invert the Hessian\n",
    "        t = 0\n",
    "        for i in range(Num_inv):\n",
    "          if inv_method == 'cg':\n",
    "            start = time.time()\n",
    "            inverse, exit_code = scipy.sparse.linalg.cg(    A,\n",
    "                                                            gradient,\n",
    "                                                            x0 = gradient,\n",
    "                                                            maxiter = 10,\n",
    "                                                            rtol = 1e-05,\n",
    "                                                            atol = 1e-10\n",
    "                                                            )\n",
    "            end = time.time()\n",
    "          # print( \"  --- CG exit code: \", exit_code)\n",
    "          else:\n",
    "            start = time.time()\n",
    "            inverse, exit_code = scipy.sparse.linalg.gmres(     A,\n",
    "                                                                gradient,\n",
    "                                                                x0 = gradient,\n",
    "                                                                maxiter = 10,\n",
    "                                                                rtol = 1e-05,\n",
    "                                                                atol = 1e-10\n",
    "                                                                )\n",
    "            end = time.time()\n",
    "          t +=  1e3 * ( end - start )\n",
    "        # end for\n",
    "        timings.append( t/Num_inv )\n",
    "      # end for\n",
    "    return timings"
   ]
  },
  {
   "cell_type": "code",
   "execution_count": null,
   "metadata": {},
   "outputs": [],
   "source": [
    "N = [ 1000, 1100 ]"
   ]
  },
  {
   "cell_type": "code",
   "execution_count": null,
   "metadata": {},
   "outputs": [],
   "source": [
    "x     = np.random.rand( 2, N[0] ) - 0.5\n",
    "theta = 2 * np.pi * np.random.rand( 1, N[1] )\n",
    "r     = 0.8 + .2 * np.random.rand( 1, N[1] )\n",
    "y     = np.vstack( ( r * np.cos(theta), r * np.sin(theta) ) )"
   ]
  },
  {
   "cell_type": "code",
   "execution_count": null,
   "metadata": {},
   "outputs": [],
   "source": [
    "epsilons = [  1.0, 0.5, 0.1, 0.05, 0.03 ]\n",
    "results_dampedNewton = dampednewton( epsilons, N, x, y )"
   ]
  },
  {
   "cell_type": "code",
   "execution_count": null,
   "metadata": {},
   "outputs": [],
   "source": [
    "plt.figure( figsize = ( 20, 7 ) )\n",
    "plt.title( \"$$\" )\n",
    "plt.title( \"$||P1 -a||_1+||P^T 1 -b||_1$\" )\n",
    "for i in range(len(results_dampedNewton['results_list'])):\n",
    "  error = np.asarray( results_dampedNewton['results_list'][i]['error_a'] ) + np.asarray( results_dampedNewton['results_list'][i]['error_b'] )\n",
    "  plt.plot( error, label = 'Damped Newton for $\\epsilon = $'+ str(epsilons[i]), linewidth = 2 )\n",
    "# end for\n",
    "plt.xlabel( \"Number of iterations\" )\n",
    "plt.ylabel( \"Error in log-scale\" )\n",
    "plt.legend()\n",
    "plt.yscale( 'log' )\n",
    "plt.show()\n",
    "print( \"\\n Error plots can increase! The error is not the objective function!\" )"
   ]
  },
  {
   "cell_type": "code",
   "execution_count": null,
   "metadata": {},
   "outputs": [],
   "source": [
    "def spectral_decomposition( mat ):\n",
    "    eig, v = np.linalg.eigh( mat )\n",
    "    sorting_indices = np.argsort( eig )\n",
    "    eig = eig[ sorting_indices ]\n",
    "    v   = v[ : , sorting_indices ]\n",
    "    print( \"List of smallest eigenvalues: \", eig[ : 10 ] )\n",
    "    print( \"List of largest  eigenvalues: \", eig[ - 10 : ] )\n",
    "    return eig, v"
   ]
  },
  {
   "cell_type": "code",
   "execution_count": null,
   "metadata": {},
   "outputs": [],
   "source": [
    "eigs = []\n",
    "eigvecs = []\n",
    "for i in range(len(epsilons)):\n",
    "    eps = epsilons[i]\n",
    "    print(\"Spectral statistics of Hessian for epsilon = \"+str(eps))\n",
    "    ev = spectral_decomposition( results_dampedNewton['Hessians'][i] )\n",
    "    eigs.append( ev[0] )\n",
    "    eigvecs.append( ev[1] )\n",
    "    print(\"\")\n",
    "# end for"
   ]
  },
  {
   "cell_type": "code",
   "execution_count": null,
   "metadata": {},
   "outputs": [],
   "source": [
    "def build_preconditioners( num_eigs, modified_Hessian, ansatz = True ):\n",
    "    # Diagonalize\n",
    "    eigenvalues, eigenvectors = np.linalg.eigh( modified_Hessian )\n",
    "    sorting_indices = np.argsort( eigenvalues )\n",
    "    eigenvalues  = eigenvalues[ sorting_indices ]\n",
    "    eigenvectors = eigenvectors[ : , sorting_indices ]\n",
    "    # Form null vector\n",
    "    if not ansatz:\n",
    "        null_vector = eigenvectors[ : , 0 ]\n",
    "    else:\n",
    "        null_vector = np.hstack( ( np.ones(N[0]), - np.ones(N[1]) ) )\n",
    "        norm = np.sqrt( N[0] + N[1] )\n",
    "        null_vector = null_vector/norm\n",
    "    # Form other vectors (only 13)\n",
    "    _, m = eigenvectors.shape\n",
    "    indices = []\n",
    "    for i in range(num_eigs//2):\n",
    "        indices.append( m - i - 2 )\n",
    "        indices.append( i + 1 )\n",
    "    # end for\n",
    "    if num_eigs%2 != 0:\n",
    "        indices.append( m - 1 - ( num_eigs//2 ) )\n",
    "   \n",
    "    precond_vectors = eigenvectors[ : , indices ]\n",
    "    precond_vectors = []\n",
    "    for index in indices:\n",
    "        precond_vectors.append( eigenvectors[:,index] )\n",
    "    # end for\n",
    "    return null_vector, precond_vectors"
   ]
  },
  {
   "cell_type": "markdown",
   "metadata": {},
   "source": [
    "## Number of times to invert the Hessian"
   ]
  },
  {
   "cell_type": "code",
   "execution_count": null,
   "metadata": {},
   "outputs": [],
   "source": [
    "Num_inv = 100"
   ]
  },
  {
   "cell_type": "code",
   "execution_count": null,
   "metadata": {},
   "outputs": [],
   "source": [
    "epsilons = [ 1.0, 0.7, 0.5, 0.3, 0.1, 0.07, 0.05, 0.03 ]"
   ]
  },
  {
   "cell_type": "markdown",
   "metadata": {},
   "source": [
    "## Direct inversion without preconditioning"
   ]
  },
  {
   "cell_type": "code",
   "execution_count": null,
   "metadata": {},
   "outputs": [],
   "source": [
    "print( \"Doing for (\",N[0], N[1],\").\" )\n",
    "# Cost matrix\n",
    "Cost = distmat( x, y )\n",
    "# a and b\n",
    "a = normalize( np.ones(N[0]) )\n",
    "b = normalize( np.ones(N[1]) )\n",
    "f, g = a, b\n",
    "f_g = np.concatenate( ( f, g ), axis = None )\n",
    "# null vector\n",
    "null_vector = np.hstack( ( np.ones( a.shape[0] ), - np.ones( b.shape[0] ) ) )/np.sqrt( a.shape[0] + b.shape[0] )\n",
    "null_vector = np.reshape( null_vector, ( a.shape[0] + b.shape[0], 1 ) )\n",
    "null_vector = null_vector\n",
    "reg_matrix = np.dot( null_vector, null_vector.T )\n",
    "timings_direct_inv = []\n",
    "for eps in epsilons:\n",
    "   print( \"For epsilon = \"+str(eps)+\" .\" )    \n",
    "   #Kernel\n",
    "   K = np.exp( - Cost/eps )\n",
    "   # Compute gradient\n",
    "   u = np.exp( f_g[:a.shape[0]]/eps )\n",
    "   v = np.exp( f_g[a.shape[0]:]/eps )\n",
    "   grad_f = a - ( a * u * np.dot( K, v  * b ) )\n",
    "   grad_g = b - ( ( b *  v ) * np.dot( K.T, u * a ) )\n",
    "   gradient = np.concatenate( ( grad_f, grad_g ), axis = None )\n",
    "   # Compute Hessian\n",
    "   r1 = ( a * u * np.dot( K,  v  * b ) )\n",
    "   r2 = ( ( b * v ) * np.dot( K.T, u * a ) )\n",
    "   u = u.reshape( u.shape[0], )\n",
    "   v = v.reshape( v.shape[0], )\n",
    "   P = a[:,None] * u[:,None] * K * v[None,:] * b[None,:]\n",
    "\n",
    "   A = np.diag( np.array( r1.reshape( r1.shape[0], ) ) )\n",
    "   B = P\n",
    "   C = P.T\n",
    "   D = np.diag( np.array( r2.reshape( r2.shape[0], ) ) )\n",
    "   result = np.vstack( ( np.hstack( ( A, B ) ), np.hstack( ( C ,D ) ) ) )\n",
    "   Hessian = - result/eps\n",
    "   # Inflating the corresponding direction\n",
    "   mean_eig = -( 0.5 * np.mean( r1 ) + 0.5 * np.mean( r2 ) )/eps\n",
    "   Hessian_stabilized = Hessian + mean_eig * reg_matrix\n",
    "   # Inversion iterations to record the average time taken to invert the Hessian\n",
    "   t = 0\n",
    "   for i in range(Num_inv):\n",
    "       start = time.time()\n",
    "       p_k = - np.linalg.solve( Hessian_stabilized, gradient )\n",
    "       end = time.time()\n",
    "       t += 1e3 * ( end - start )\n",
    "   # end for\n",
    "   timings_direct_inv.append( t/Num_inv )"
   ]
  },
  {
   "cell_type": "markdown",
   "metadata": {},
   "source": [
    "## Conjugate Gradient"
   ]
  },
  {
   "cell_type": "markdown",
   "metadata": {},
   "source": [
    "#### I. "
   ]
  },
  {
   "cell_type": "code",
   "execution_count": null,
   "metadata": {},
   "outputs": [],
   "source": [
    "# Get preconditioning vectors\n",
    "num_eigs_CG_1 = 7\n",
    "null_vector, precond_vectors = build_preconditioners( num_eigs_CG_1, results_dampedNewton['Hessians'][-1], ansatz = False )"
   ]
  },
  {
   "cell_type": "code",
   "execution_count": null,
   "metadata": {},
   "outputs": [],
   "source": [
    "timings_CG_1 = iterative_inversions( epsilons, N, x, y, null_vector, precond_vectors, inv_method = 'cg', Num_inv = Num_inv )"
   ]
  },
  {
   "cell_type": "markdown",
   "metadata": {},
   "source": [
    "#### II."
   ]
  },
  {
   "cell_type": "code",
   "execution_count": null,
   "metadata": {},
   "outputs": [],
   "source": [
    "# Get preconditioning vectors\n",
    "num_eigs_CG_2 = 50\n",
    "null_vector, precond_vectors = build_preconditioners( num_eigs_CG_2, results_dampedNewton['Hessians'][-1], ansatz = False )"
   ]
  },
  {
   "cell_type": "code",
   "execution_count": null,
   "metadata": {},
   "outputs": [],
   "source": [
    "timings_CG_2 = iterative_inversions( epsilons, N, x, y, null_vector, precond_vectors, inv_method = 'cg', Num_inv = Num_inv )"
   ]
  },
  {
   "cell_type": "markdown",
   "metadata": {},
   "source": [
    "#### III."
   ]
  },
  {
   "cell_type": "code",
   "execution_count": null,
   "metadata": {},
   "outputs": [],
   "source": [
    "# Get preconditioning vectors\n",
    "num_eigs_CG_3 = 100\n",
    "null_vector, precond_vectors = build_preconditioners( num_eigs_CG_3, results_dampedNewton['Hessians'][-1], ansatz = False )"
   ]
  },
  {
   "cell_type": "code",
   "execution_count": null,
   "metadata": {},
   "outputs": [],
   "source": [
    "timings_CG_3 = iterative_inversions( epsilons, N, x, y, null_vector, precond_vectors, inv_method = 'cg', Num_inv = Num_inv )"
   ]
  },
  {
   "cell_type": "markdown",
   "metadata": {},
   "source": [
    "## GMRES    "
   ]
  },
  {
   "cell_type": "markdown",
   "metadata": {},
   "source": [
    "#### I."
   ]
  },
  {
   "cell_type": "code",
   "execution_count": null,
   "metadata": {},
   "outputs": [],
   "source": [
    "# Get preconditioning vectors\n",
    "num_eigs_GMRES_1 = 7\n",
    "null_vector, precond_vectors = build_preconditioners( num_eigs_GMRES_1, results_dampedNewton['Hessians'][-1], ansatz = False )"
   ]
  },
  {
   "cell_type": "code",
   "execution_count": null,
   "metadata": {},
   "outputs": [],
   "source": [
    "timings_GMRES_1 = iterative_inversions( epsilons, N, x, y, null_vector, precond_vectors, inv_method = 'gmres', Num_inv = Num_inv )"
   ]
  },
  {
   "cell_type": "markdown",
   "metadata": {},
   "source": [
    "#### II."
   ]
  },
  {
   "cell_type": "code",
   "execution_count": null,
   "metadata": {},
   "outputs": [],
   "source": [
    "# Get preconditioning vectors\n",
    "num_eigs_GMRES_2 = 50\n",
    "null_vector, precond_vectors = build_preconditioners( num_eigs_GMRES_2, results_dampedNewton['Hessians'][-1], ansatz = False )"
   ]
  },
  {
   "cell_type": "code",
   "execution_count": null,
   "metadata": {},
   "outputs": [],
   "source": [
    "timings_GMRES_2 = iterative_inversions( epsilons, N, x, y, null_vector, precond_vectors, inv_method = 'gmres', Num_inv = Num_inv )"
   ]
  },
  {
   "cell_type": "markdown",
   "metadata": {},
   "source": [
    "#### III."
   ]
  },
  {
   "cell_type": "code",
   "execution_count": null,
   "metadata": {},
   "outputs": [],
   "source": [
    "# Get preconditioning vectors\n",
    "num_eigs_GMRES_3 = 100\n",
    "null_vector, precond_vectors = build_preconditioners( num_eigs_GMRES_3, results_dampedNewton['Hessians'][-1], ansatz = False )"
   ]
  },
  {
   "cell_type": "code",
   "execution_count": null,
   "metadata": {},
   "outputs": [],
   "source": [
    "timings_GMRES_3 = iterative_inversions( epsilons, N, x, y, null_vector, precond_vectors, inv_method = 'gmres', Num_inv = Num_inv )"
   ]
  },
  {
   "cell_type": "markdown",
   "metadata": {},
   "source": [
    "## Benchmarking the time taken to invert the Hessian using different methods"
   ]
  },
  {
   "cell_type": "code",
   "execution_count": null,
   "metadata": {},
   "outputs": [],
   "source": [
    "plt.figure( figsize = ( 20, 7 ) )\n",
    "plt.title( \"Benchmarking inversion methods\" )\n",
    "plt.plot( timings_direct_inv[::-1], label = 'Direct inversion', linewidth = 2 )\n",
    "plt.plot( timings_CG_1[::-1], label = 'CG with '+str(num_eigs_CG_1)+ ' precondiotioning vectors', linewidth = 2 )\n",
    "plt.plot( timings_CG_2[::-1], label = 'CG with '+str(num_eigs_CG_2)+ ' precondiotioning vectors', linewidth = 2 )\n",
    "plt.plot( timings_CG_3[::-1], label = 'CG with '+str(num_eigs_CG_3)+ ' precondiotioning vectors', linewidth = 2 )\n",
    "plt.plot( timings_GMRES_1[::-1], label = 'GMRES with '+str(num_eigs_GMRES_1)+ ' precondiotioning vectors', linewidth = 2 )\n",
    "plt.plot( timings_GMRES_2[::-1], label = 'GMRES with '+str(num_eigs_GMRES_2)+ ' precondiotioning vectors', linewidth = 2 )\n",
    "plt.plot( timings_GMRES_3[::-1], label = 'GMRES with '+str(num_eigs_GMRES_3)+ ' precondiotioning vectors', linewidth = 2 )\n",
    "plt.xlabel( \"$\\epsilon$\" )\n",
    "plt.ylabel( \"Time in ms\" )\n",
    "# plt.yscale( 'log' )\n",
    "plt.xticks( list(range(len(epsilons))), epsilons[::-1] )\n",
    "plt.legend( loc = 'upper right' )\n",
    "plt.savefig( \"../Images/Benchmarking_inversion_methods_images/Inversion_benchmark.pdf\", format = 'pdf' )\n",
    "plt.show()"
   ]
  },
  {
   "cell_type": "code",
   "execution_count": null,
   "metadata": {},
   "outputs": [],
   "source": []
  }
 ],
 "metadata": {
  "kernelspec": {
   "display_name": ".venv_computational-OT",
   "language": "python",
   "name": "python3"
  },
  "language_info": {
   "codemirror_mode": {
    "name": "ipython",
    "version": 3
   },
   "file_extension": ".py",
   "mimetype": "text/x-python",
   "name": "python",
   "nbconvert_exporter": "python",
   "pygments_lexer": "ipython3",
   "version": "3.12.3"
  }
 },
 "nbformat": 4,
 "nbformat_minor": 2
}
