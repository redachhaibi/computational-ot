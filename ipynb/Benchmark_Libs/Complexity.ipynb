{
 "cells": [
  {
   "cell_type": "code",
   "execution_count": null,
   "metadata": {},
   "outputs": [],
   "source": [
    "!pip install perfplot"
   ]
  },
  {
   "cell_type": "code",
   "execution_count": null,
   "metadata": {},
   "outputs": [],
   "source": [
    "import numpy\n",
    "import perfplot\n",
    "\n",
    "perfplot.show(\n",
    "    setup = lambda n: [ numpy.random.rand(n, 3), numpy.random.rand(n, 3) ] ,\n",
    "    kernels = [\n",
    "        lambda data: numpy.einsum( \"ij, ij->i\", data[0], data[1] ),\n",
    "        lambda data: numpy.multiply( data[0], data[1] ).sum( 1 ),\n",
    "        lambda data: [\n",
    "            sum( ai * bi for ai, bi in zip( a, b ) ) for a, b in zip( data[0], data[1] )\n",
    "        ],\n",
    "    ],\n",
    "    labels = [ \"einsum\", \"multiply+sum\", \"sum+zip\" ],\n",
    "    n_range = [ 2 ** k for k in range(18) ],\n",
    "    xlabel = \"len(a)\",\n",
    ")\n",
    "\n"
   ]
  },
  {
   "cell_type": "code",
   "execution_count": null,
   "metadata": {},
   "outputs": [],
   "source": [
    "import numpy\n",
    "import perfplot\n",
    "\n",
    "perfplot.show(\n",
    "    setup = lambda n: [ numpy.random.rand(n, n), numpy.random.rand(n) ] ,\n",
    "    kernels = [\n",
    "        lambda data: numpy.dot( data[0], data[1]),\n",
    "        lambda data: data[0] * (data[1][:,None]),\n",
    "        lambda data: ( data[1][None,:] ) * data[0] * ( data[1][:,None] ),\n",
    "    ],\n",
    "    labels = [ \"matrix-vector\", \"column rescale\", \"rc rescale\" ],\n",
    "    n_range = [ 2 ** k for k in range(15) ],\n",
    "    xlabel = \"len(a)\",\n",
    "    equality_check = False,\n",
    ")"
   ]
  },
  {
   "cell_type": "code",
   "execution_count": null,
   "metadata": {},
   "outputs": [],
   "source": [
    "k = 10\n",
    "n = 100\n",
    "\n",
    "A,y = ( numpy.random.rand( n, n ), numpy.random.rand( n, k ) )\n",
    "res1 = numpy.diag( numpy.dot( y.T, numpy.dot( A, y) ) )\n",
    "print( res1.shape )\n",
    "res2 = numpy.sum( y * numpy.dot( A, y), axis = 0 )\n",
    "print( res2.shape )\n",
    "res3 = numpy.einsum( 'ik,ij,jk -> k', y, A, y )\n",
    "print( res3.shape )\n",
    "\n",
    "print( res1 - res2 )\n",
    "print( res2 - res3)\n",
    "\n"
   ]
  },
  {
   "cell_type": "code",
   "execution_count": null,
   "metadata": {},
   "outputs": [],
   "source": [
    "import numpy\n",
    "import perfplot\n",
    "\n",
    "perfplot.show(\n",
    "    setup = lambda n: ( numpy.random.rand(n, n), numpy.random.rand(n,k) ) ,\n",
    "    kernels=[\n",
    "        lambda A,y : numpy.diag( numpy.dot( y.T, numpy.dot( A, y) ) ),\n",
    "        lambda A,y : numpy.sum( y * numpy.dot( A, y), axis = 0 ),\n",
    "        lambda A,y : numpy.einsum( 'ik,ij,jk -> k', y, A, y )\n",
    "        #lambda data: numpy.dot( data[0], data[2]),\n",
    "        #lambda data: data[0]*(data[1][:,None]),\n",
    "        #lambda data: (data[1][None,:])*data[0]*(data[1][:,None]),\n",
    "    ],\n",
    "    labels = [ \"diag select\", \"sum + multiplipy y*Ay\", \"einsum\" ],\n",
    "    n_range = [ 2 ** k for k in range(15) ],\n",
    "    xlabel = \"len(a)\",\n",
    "    equality_check = False,\n",
    ")"
   ]
  }
 ],
 "metadata": {
  "kernelspec": {
   "display_name": ".venv_computational-OT",
   "language": "python",
   "name": ".venv_computational-ot"
  },
  "language_info": {
   "codemirror_mode": {
    "name": "ipython",
    "version": 3
   },
   "file_extension": ".py",
   "mimetype": "text/x-python",
   "name": "python",
   "nbconvert_exporter": "python",
   "pygments_lexer": "ipython3",
   "version": "3.10.6"
  },
  "orig_nbformat": 4,
  "vscode": {
   "interpreter": {
    "hash": "8b36e04c518f81ce2975e9f25da352c3435a6c877efce8156a6920cdb02a8e6f"
   }
  }
 },
 "nbformat": 4,
 "nbformat_minor": 2
}
